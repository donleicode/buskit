{
 "cells": [
  {
   "cell_type": "markdown",
   "metadata": {},
   "source": [
    "# This sandbox creates the simulation environment\n",
    "\n",
    "## Trajectory Data\n",
    "- live real-time feed\n",
    "- historical archive\n",
    "- ~~artificial~~\n",
    "\n",
    "## Route Type\n",
    "- topology\n",
    "- ~~map~~\n",
    "\n",
    "## Classes\n",
    "- Stop\n",
    "- Link\n",
    "- Bus\n",
    "- ~~Pax: with OD~~\n",
    "\n",
    "## Link Travel Time/Speed\n",
    "### fixed route characteristics\n",
    "- stops\n",
    "- signals\n",
    "- intersections\n",
    "- road design\n",
    "\n",
    "### dynamic route characteristics\n",
    "- base demand (neighborhood)\n",
    "- base traffic\n",
    "- weather\n",
    "- time (hour, day, month)\n",
    "\n",
    "### operation characteristics\n",
    "- driver behavior\n",
    "- operation constraints\n",
    "\n",
    "## Dwelling Time\n",
    "- vehicle (type, door, stair, seats)\n",
    "- occupancy\n",
    "- rider behavior\n",
    "- OD pairs\n",
    "\n",
    "## Visualization\n",
    "- object-oriented interaction\n",
    "- user interface\n",
    "- timer\n",
    "- event log\n",
    "- traffic conditions\n",
    "- weather\n",
    "- time (e.g., weekday, peak hour)\n",
    "- reality\n",
    "- counter-factual"
   ]
  },
  {
   "cell_type": "code",
   "execution_count": 1,
   "metadata": {},
   "outputs": [
    {
     "name": "stdout",
     "output_type": "stream",
     "text": [
      "Populating the interactive namespace from numpy and matplotlib\n"
     ]
    }
   ],
   "source": [
    "import numpy as np\n",
    "import pandas as pd\n",
    "import matplotlib.pyplot as plt\n",
    "import scipy.stats as ss\n",
    "\n",
    "from IPython.display import display, clear_output\n",
    "\n",
    "%pylab inline"
   ]
  },
  {
   "cell_type": "code",
   "execution_count": 2,
   "metadata": {},
   "outputs": [],
   "source": [
    "from buskit import simulator as bsim"
   ]
  },
  {
   "cell_type": "code",
   "execution_count": 75,
   "metadata": {},
   "outputs": [],
   "source": [
    "# determine data source\n",
    "beta = True\n",
    "time_coef = 100000 # simulation time is __ times faster than the reality\n",
    "avg_door_t = 5 # assume opening and closing the door take 5 seconds in total\n",
    "avg_board_t = 3 # assume each boarding takes 3 sec\n",
    "avg_alight_t = 2 # assume each alight takes 2 sec\n",
    "\n",
    "if beta:\n",
    "    # artificial data   ### make this part automatized with given number of stop\n",
    "    stop_ref = np.array([1, 2, 3, 4, 5, 6, 7])\n",
    "    stop_pos = np.array([0, 100, 200, 300, 400, 500, 600])\n",
    "    stop_name = np.array(['A', 'B', 'C', 'D', 'E', 'F', 'G'])\n",
    "else:\n",
    "    # historical data\n",
    "    stop_ref, stop_pos, stop_name = bsim.read_data(\"MTA_data/M1-Tue-180410-154415-260.csv\", 1)\n",
    "\n",
    "# speed and travel time data are currently artificial\n",
    "link_vel = 1.5 * np.random.randn(len(stop_pos)) + 7 # make sure the unit is m/sec\n",
    "#dwell_t = 7 * np.random.randn(len(stop_pos)) + 20 # make sure the unit is sec\n",
    "\n",
    "# pax distribution\n",
    "stop_pos_next = np.append(stop_pos, stop_pos[-1])[1:]\n",
    "\n",
    "pos_mu = stop_pos.mean()\n",
    "pos_std = stop_pos.std()\n",
    "pax_norm = ss.norm(loc=pos_mu, scale=pos_std)\n",
    "pax_perc = np.array([pax_norm.cdf(stop_pos_next[i]) - pax_norm.cdf(stop_pos[i]) for i in range(len(stop_pos))]) ### a temporary measure ###\n",
    "\n",
    "pax_hr_route = 5000\n",
    "pax_hr_stop = pax_hr_route * pax_perc\n",
    "pax_at_stop = np.zeros(len(stop_pos))"
   ]
  },
  {
   "cell_type": "code",
   "execution_count": 88,
   "metadata": {},
   "outputs": [],
   "source": [
    "# Bus class\n",
    "class Bus(object):\n",
    "    \n",
    "    capacity = 60\n",
    "    seat = 40\n",
    "    \n",
    "    def __init__(self, ref, pos=0):\n",
    "        self.ref = ref # vehicle reference\n",
    "        self.pos = pos # vehicle location (1-D)\n",
    "        self.link = np.sum(self.pos >= stop_pos) - 1 # link index starts from 0  ### unified with the formula in Stop Class\n",
    "        self.vel = link_vel[self.link] # speed at current link\n",
    "        self.next_stop = stop_pos[self.link + 1] # position of next stop\n",
    "        self.dwell_t = 0\n",
    "        self.pax = 0\n",
    "        self.clock = 0\n",
    "        self.operate = True\n",
    "        self.atstop = False\n",
    "        \n",
    "        self.log_pos = [self.pos]\n",
    "        self.log_vel = [self.vel]\n",
    "        self.log_pax = [0]\n",
    "        self.log_dwell = [0]\n",
    "\n",
    "    def terminal(self):\n",
    "        print(\"The bus has reached the terminal\")\n",
    "        self.operate = False\n",
    "        self.vel = 0\n",
    "        self.pax = 0\n",
    "        \n",
    "    def stop(self):\n",
    "        print(\"Bus %s is making a stop at %s (position %i)\"%(self.ref, stop_name[self.link + 1], self.next_stop))\n",
    "        self.atstop = True\n",
    "        self.pax_to_board = pax_at_stop[self.link + 1] # check how many pax at stop\n",
    "        self.board_t = self.pax * avg_board_t\n",
    "        self.alight_t = 0 * avg_alight_t  #### TO DEVELOP\n",
    "        self.dwell_t = avg_door_t + self.alight_t + self.board_t # supposed to dwell for this long\n",
    "        self.clock += 1\n",
    "\n",
    "#         self.vel = 0\n",
    "#         self.pos += self.vel\n",
    "        self.record()\n",
    "\n",
    "    def move(self):\n",
    "        pax_at_stop[self.link + 1] = 0 # clear all pax at stop\n",
    "        self.log_dwell.append(self.dwell_t)\n",
    "        # move on!\n",
    "        self.atstop = False\n",
    "        self.dwell_t = 0\n",
    "        self.clock = 0\n",
    "        self.link += 1\n",
    "        self.pax = 0 # update pax onboard ###################\n",
    "        self.record()\n",
    "        self.vel = link_vel[self.link] # new link speed\n",
    "        self.next_stop = stop_pos[self.link + 1] # new next stop\n",
    "\n",
    "    def record(self):\n",
    "        self.log_pos.append(self.pos)\n",
    "        self.log_pax.append(self.pax)\n",
    "        \n",
    "    def proceed(self):\n",
    "        if self.operate:\n",
    "            if self.pos + self.vel >= stop_pos[-1]:\n",
    "                self.terminal()\n",
    "            elif self.pos + self.vel >= self.next_stop:  ### this judgement restricts from recording vel as 0 at stop, change to sth else\n",
    "                self.stop()\n",
    "                if self.clock >= self.dwell_t:\n",
    "                    self.move()\n",
    "            else:\n",
    "                print(\"Current position of bus %s: %i\"%(self.ref, self.pos))\n",
    "                self.pos += self.vel\n",
    "                self.record()\n",
    "        else:\n",
    "            print(\"Bus %s is not operating.\"%(self.ref))"
   ]
  },
  {
   "cell_type": "code",
   "execution_count": 83,
   "metadata": {},
   "outputs": [],
   "source": [
    "class Stop(object):\n",
    "    \n",
    "    pos_mu = stop_pos.mean()\n",
    "    pos_std = stop_pos.std()\n",
    "    pos_len = np.diff(stop_pos) # segment length starting from link 0\n",
    "\n",
    "    def __init__(self, i):\n",
    "        self.ref = stop_ref[i] # stop reference\n",
    "        self.pos = stop_pos[i] # stop location (1-D)\n",
    "        self.name = stop_name[i] # stop name\n",
    "        self.link = i # the link (index from 0) that the stop belongs to\n",
    "#         self.link = list(stop_ref).index(self.ref) # link index starts from 0\n",
    "        self.pax = 0\n",
    "        self.first = self.pos == stop_pos[0]\n",
    "        self.last = self.pos == stop_pos[-1]\n",
    "        self.clock = 0\n",
    "        self.log_pax = [0]\n",
    "        self.log_wait_t = [0]\n",
    "#        self.log_msg = []\n",
    "#        self.log_spacing\n",
    "\n",
    "    def new_pax(self): # randomly generate new pax each second\n",
    "        # future function, also consider bus frequency to determine arrival distribution\n",
    "        # frequent services tend to have uniform arrivals\n",
    "        return int(np.random.poisson(lam=(pax_hr_stop[self.link]/3600), size=1))  # lambda = (avg pax/hr) / sec\n",
    "    \n",
    "    def update(self):\n",
    "        self.clock += 1\n",
    "        self.pax += self.new_pax()\n",
    "        pax_at_stop[self.link] = self.pax # update global listing of pax at each stop\n",
    "        return self.pax\n",
    "\n",
    "    def record(self):\n",
    "        self.log_pax.append(self.pax)\n",
    "        self.log_wait_t.append(self.clock)\n",
    "\n",
    "    def proceed(self):\n",
    "        if pax_at_stop[self.link] < self.pax: # if pax are cleared by a bus\n",
    "            self.pax = pax_at_stop[self.link] # reverse update\n",
    "            self.clock = 0\n",
    "\n",
    "        self.update()\n",
    "        self.record()"
   ]
  },
  {
   "cell_type": "code",
   "execution_count": 99,
   "metadata": {},
   "outputs": [],
   "source": [
    "bus1 = Bus('7609', 0)\n",
    "bus2 = Bus('7828', 120)\n",
    "bus3 = Bus('7964', 290)\n",
    "buses = [bus1, bus2, bus3]"
   ]
  },
  {
   "cell_type": "code",
   "execution_count": 97,
   "metadata": {},
   "outputs": [],
   "source": [
    "stop1 = Stop(0)\n",
    "stop2 = Stop(1)\n",
    "stop3 = Stop(2)\n",
    "stop4 = Stop(3)\n",
    "stop5 = Stop(4)\n",
    "stop6 = Stop(5)\n",
    "stop7 = Stop(6)\n",
    "stops = [stop1, stop2, stop3, stop4,\n",
    "         stop5, stop6, stop7]"
   ]
  },
  {
   "cell_type": "code",
   "execution_count": 100,
   "metadata": {},
   "outputs": [
    {
     "data": {
      "image/png": "[encoded data removed]",
      "text/plain": [
       "<matplotlib.figure.Figure at 0x1110d9b70>"
      ]
     },
     "metadata": {},
     "output_type": "display_data"
    },
    {
     "name": "stdout",
     "output_type": "stream",
     "text": [
      "Time elapsed: 121 seconds\n",
      "Pax at each stop:  [25. 22. 19. 21. 12.  3.  0.]\n"
     ]
    },
    {
     "data": {
      "image/png": "[encoded data removed]",
      "text/plain": [
       "<matplotlib.figure.Figure at 0x1110d9b70>"
      ]
     },
     "metadata": {},
     "output_type": "display_data"
    }
   ],
   "source": [
    "fig = plt.figure(figsize=(20,5))\n",
    "ax = fig.add_subplot(111)\n",
    "\n",
    "### FLATTEN THE CODE HERE!!! ###\n",
    "ax.plot(stop_pos, np.ones(len(stop_pos)), '.-')\n",
    "veh1, = ax.plot(bus1.pos, 1, '*', markersize=10)\n",
    "veh2, = ax.plot(bus2.pos, 1, '*', markersize=10)\n",
    "veh3, = ax.plot(bus3.pos, 1, '*', markersize=10)\n",
    "\n",
    "ax.set_xlabel('Distance along route M1', fontsize=14)\n",
    "\n",
    "clock = 0\n",
    "\n",
    "while bus1.operate or bus2.operate or bus3.operate:\n",
    "    [s.proceed() for s in stops]\n",
    "    [b.proceed() for b in buses]\n",
    "\n",
    "    veh1.set_xdata(bus1.pos)\n",
    "    veh2.set_xdata(bus2.pos)\n",
    "    veh3.set_xdata(bus3.pos)\n",
    "    clear_output(wait=True)\n",
    "    display(fig)\n",
    "    clock += 1\n",
    "    print(\"Time elapsed: %i seconds\"%(clock))\n",
    "    print(\"Pax at each stop: \", pax_at_stop)\n",
    "    time.sleep(1/time_coef) # set a global time equivalent parameter"
   ]
  },
  {
   "cell_type": "markdown",
   "metadata": {},
   "source": [
    "# Next tasks\n",
    "1. scale up: group generation given bus and stop data"
   ]
  },
  {
   "cell_type": "code",
   "execution_count": null,
   "metadata": {},
   "outputs": [],
   "source": [
    "def spacing():\n",
    "    for pair in spacing_vars:\n",
    "        a = df.loc[i,\"pos_\" + pair.split(\"_\")[1]]\n",
    "        b = df.loc[i,\"pos_\" + pair.split(\"_\")[2]]\n",
    "        val = min(\n",
    "            abs(a-b),\n",
    "            ((stop_positions[-1] - max(a,b)) + min(a,b))\n",
    "            )\n",
    "        df.loc[i,pair] = val"
   ]
  },
  {
   "cell_type": "code",
   "execution_count": null,
   "metadata": {},
   "outputs": [],
   "source": [
    "def bunching():\n",
    "    bunch_list = []\n",
    "    for pair in spacing_vars:\n",
    "        bunch_list.append(df.loc[i,pair] < 0.03)\n",
    "    if any(bunch_list):\n",
    "        df.loc[i,\"bunching\"] = 1.0\n",
    "    else:\n",
    "        df.loc[i,\"bunching\"] = 0.0"
   ]
  },
  {
   "cell_type": "code",
   "execution_count": null,
   "metadata": {},
   "outputs": [],
   "source": [
    "# TOTAL PAX WAIT\n",
    "analytics_list=[]\n",
    "wait_list = []\n",
    "for v in pax_vars:\n",
    "    wait_list.append(df[v].sum())\n",
    "\n",
    "print(\"TOTAL WAIT: \" + str(sum(wait_list)))\n",
    "analytics_list.append(sum(wait_list))"
   ]
  },
  {
   "cell_type": "code",
   "execution_count": null,
   "metadata": {},
   "outputs": [],
   "source": [
    "if len(df.bunching[df.bunching == 1]) > 0:\n",
    "    print(\"TIME OF FIRST BUNCH: \" + str(min(df.bunching[df.bunching == 1].index)))\n",
    "    analytics_list.append(min(df.bunching[df.bunching == 1].index))\n",
    "else:\n",
    "    analytics_list.append(\"no bunch\")"
   ]
  },
  {
   "cell_type": "code",
   "execution_count": null,
   "metadata": {},
   "outputs": [],
   "source": [
    "loops = 0\n",
    "for i in range(1,len(df)):\n",
    "    for bus in pos_vars:\n",
    "        if (df.loc[i-1,bus] <= 1.23) and (df.loc[i,bus] >= 1.23):\n",
    "            loops += 1\n",
    "\n",
    "print(\"ROUTES COMPLETED: \" + str(loops))\n",
    "analytics_list.append(loops)"
   ]
  },
  {
   "cell_type": "code",
   "execution_count": null,
   "metadata": {},
   "outputs": [],
   "source": [
    "#Time-Space Diagram\n",
    "plt.figure(figsize=(20,10))\n",
    "plt.subplot(2,1,1)\n",
    "for i in pos_vars:\n",
    "    plt.plot(df[i])\n",
    "plt.ylabel('Position')\n",
    "plt.xlabel('Time (seconds)')\n",
    "plt.legend([\"Bus 1\",\"Bus 2\",\"Bus 3\"])\n",
    "\n",
    "plt.subplot(2,1,2)\n",
    "for i in spacing_vars:\n",
    "    plt.plot(df[i])\n",
    "plt.ylabel('Spacing')\n",
    "plt.xlabel('Time (seconds)')\n",
    "plt.legend([\"Between Bus 1 and 2\",\"Between Bus 2 and 3\",\"Between Bus 3 and 1\"])\n",
    "\n",
    "plt.show()"
   ]
  },
  {
   "cell_type": "code",
   "execution_count": null,
   "metadata": {},
   "outputs": [],
   "source": [
    "#Cumulative Arrival Curves\n",
    "plt.figure(figsize=(20,10))\n",
    "for i in pax_vars:\n",
    "    plt.subplot(len(pax_vars),1,pax_vars.index(i)+1)\n",
    "    plt.title(\"Stop \" + str(pax_vars.index(i)), loc=\"left\")\n",
    "    plt.plot(df[i])\n",
    "    plt.ylabel('Number Waiting')\n",
    "    plt.ylim(ymin = 0, ymax = 15)\n",
    "    plt.xlabel('Time (seconds)')\n",
    "plt.show()"
   ]
  },
  {
   "cell_type": "code",
   "execution_count": null,
   "metadata": {},
   "outputs": [],
   "source": [
    "plt.figure(figsize=(20,10))\n",
    "\n",
    "plt.subplot(3,1,1)\n",
    "for i in pos_vars:\n",
    "    plt.plot(df[i])\n",
    "plt.ylabel('Position')\n",
    "plt.xlabel('Time (seconds)')\n",
    "plt.legend([\"Bus 1\",\"Bus 2\",\"Bus 3\"])\n",
    "\n",
    "\n",
    "plt.subplot(3,1,2)\n",
    "for i in spacing_vars:\n",
    "    plt.plot(df[i])\n",
    "plt.ylabel('Spacing')\n",
    "plt.xlabel('Time (seconds)')\n",
    "plt.legend([\"Between Bus 1 and 2\",\"Between Bus 2 and 3\",\"Between Bus 3 and 1\"])\n",
    "\n",
    "\n",
    "plt.subplot(3,1,3)\n",
    "plt.plot(df.bunching)\n",
    "plt.ylim(ymin = -0.5, ymax = 1.5)\n",
    "\n",
    "plt.show()"
   ]
  },
  {
   "cell_type": "code",
   "execution_count": null,
   "metadata": {},
   "outputs": [],
   "source": []
  },
  {
   "cell_type": "code",
   "execution_count": null,
   "metadata": {},
   "outputs": [],
   "source": []
  },
  {
   "cell_type": "code",
   "execution_count": null,
   "metadata": {},
   "outputs": [],
   "source": []
  },
  {
   "cell_type": "code",
   "execution_count": null,
   "metadata": {},
   "outputs": [],
   "source": []
  },
  {
   "cell_type": "code",
   "execution_count": 578,
   "metadata": {},
   "outputs": [],
   "source": [
    "def check_atstop(buses):\n",
    "    for b in buses:\n",
    "        if b.atstop:\n",
    "            atstop[b.ref] = b.link + 1\n",
    "        else:\n",
    "            try:\n",
    "                atstop.pop(b.ref)\n",
    "            except KeyError:\n",
    "                pass\n",
    "    return atstop"
   ]
  },
  {
   "cell_type": "code",
   "execution_count": 406,
   "metadata": {},
   "outputs": [
    {
     "data": {
      "image/png": "[encoded data removed]",
      "text/plain": [
       "<matplotlib.figure.Figure at 0x10e9db978>"
      ]
     },
     "metadata": {},
     "output_type": "display_data"
    }
   ],
   "source": [
    "# this block explains how current passenger demand distribution is set up\n",
    "# assume a diametrical route with loads normal distributed across the route\n",
    "fig = plt.figure(figsize=(8,8))\n",
    "ax = fig.add_subplot(111)\n",
    "ps=[]\n",
    "for i in range(len(stop_pos)):\n",
    "    if i != len(stop_pos)-1:\n",
    "        p = pax_norm.cdf(stop_pos[i] + np.diff(stop_pos)[i]) - pax_norm.cdf(stop_pos[i]) ### a temporary measure ###\n",
    "        ps.append(p*100)\n",
    "ax.plot(range(len(stop_pos)-1), ps, 'r-')\n",
    "plt.title(\"Proportion of route load (pax arrivals) across stops (%)\", fontsize=18)\n",
    "plt.xlabel(\"Stop index\", fontsize=14)\n",
    "plt.ylabel(\"Percentage\", fontsize=14)\n",
    "plt.show()"
   ]
  },
  {
   "cell_type": "markdown",
   "metadata": {},
   "source": [
    "[Passenger Arrival Rates at Public Transport Stations](http://www.andynash.com/nash-publications/Luethi2007-pax-arrivals-TRB-paper.pdf)"
   ]
  },
  {
   "cell_type": "code",
   "execution_count": null,
   "metadata": {},
   "outputs": [],
   "source": []
  },
  {
   "cell_type": "code",
   "execution_count": null,
   "metadata": {},
   "outputs": [],
   "source": []
  },
  {
   "cell_type": "code",
   "execution_count": null,
   "metadata": {},
   "outputs": [],
   "source": []
  },
  {
   "cell_type": "code",
   "execution_count": 337,
   "metadata": {},
   "outputs": [],
   "source": [
    "### outdated ###\n",
    "\n",
    "# function for plotting time-space diagram\n",
    "def plot_tsd(vehicles, start_sec=None, end_sec=None, save=False, fname='TSD'):\n",
    "    \"\"\"\n",
    "    Plot the time-space diagram for a given dataframe containing\n",
    "    real-time MTA bus data (as generated from fetchbus.py)\n",
    "    PARAMETERS\n",
    "    ----------\n",
    "    vehicles: list\n",
    "        Input a list of Bus objects.\n",
    "    start_sec: numeric\n",
    "        Plot from this given second (time elapsed).\n",
    "    end_sec: numeric\n",
    "        Plot until this given second (time elapsed).\n",
    "    save: boolean\n",
    "        Save TSD to .png at current directory.\n",
    "    fname: string\n",
    "        Assign a filename for saved TSD (otherwise may be overwritten).\n",
    "        \n",
    "    RETURNS\n",
    "    -------\n",
    "    fig:\n",
    "    ax:\n",
    "    filename.png: png\n",
    "        a saved TSD file (optional)\n",
    "    \"\"\"\n",
    "    # determine time interval to be plotted\n",
    "    try:\n",
    "        s = start_sec * 2 # * 60 sec / 30 sec interval\n",
    "        e = end_sec * 2\n",
    "    except:\n",
    "        s = start_sec\n",
    "        e = end_sec\n",
    "\n",
    "    # plot figure\n",
    "    fig = plt.figure(figsize=(12,8))\n",
    "    ax = fig.add_subplot(111)\n",
    "    \n",
    "    # plot the trajectory for each vehicle\n",
    "    for i, v in enumerate(vehicles):\n",
    "        # subset within specified time window\n",
    "        traj = v.log_pos[s:e]\n",
    "        \n",
    "        # plot CallDistanceAlongRoute (bus stops)\n",
    "#        [ax.plot([df['RecordedAtTime'].min(), df['RecordedAtTime'].max()], [i, i], color='gray', alpha=0.1) for i in df['CallDistanceAlongRoute'].unique()]\n",
    "        \n",
    "        ax.plot(range(len(traj)), traj, linestyle='-')\n",
    "#        ax.annotate('%s'%v.split(\"_\")[1], (list(veh_df['RecordedAtTime'])[0],list(veh_df['VehDistAlongRoute'])[0]))\n",
    "        \n",
    "#        ax.grid()\n",
    "        ax.set_xlabel(\"time\", fontsize=14)\n",
    "        ax.set_ylabel(\"distance along route (m)\", fontsize=14)\n",
    "        ax.set_title(\"Time-space Diagram\", fontsize=18)\n",
    "    \n",
    "    plt.tight_layout()\n",
    "    \n",
    "    # save figure locally if specified\n",
    "    if save:\n",
    "        plt.savefig(\"%s.png\"%(fname), dpi=300)\n",
    "    else:\n",
    "        pass\n",
    "    plt.show()\n",
    "    \n",
    "    return fig, ax"
   ]
  },
  {
   "cell_type": "code",
   "execution_count": 338,
   "metadata": {},
   "outputs": [
    {
     "data": {
      "image/png": "[encoded data removed]",
      "text/plain": [
       "<matplotlib.figure.Figure at 0x10f303048>"
      ]
     },
     "metadata": {},
     "output_type": "display_data"
    },
    {
     "data": {
      "text/plain": [
       "(<matplotlib.figure.Figure at 0x10f303048>,\n",
       " <matplotlib.axes._subplots.AxesSubplot at 0x1168064e0>)"
      ]
     },
     "execution_count": 338,
     "metadata": {},
     "output_type": "execute_result"
    }
   ],
   "source": [
    "plot_tsd(buses, end_sec=200)"
   ]
  },
  {
   "cell_type": "code",
   "execution_count": null,
   "metadata": {},
   "outputs": [],
   "source": []
  },
  {
   "cell_type": "code",
   "execution_count": null,
   "metadata": {},
   "outputs": [],
   "source": []
  },
  {
   "cell_type": "code",
   "execution_count": null,
   "metadata": {},
   "outputs": [],
   "source": []
  },
  {
   "cell_type": "code",
   "execution_count": 52,
   "metadata": {},
   "outputs": [],
   "source": []
  },
  {
   "cell_type": "code",
   "execution_count": null,
   "metadata": {},
   "outputs": [],
   "source": [
    "def draw(canvas):\n",
    "    global time, started, score, lives, rock_group, my_ships\n",
    " \n",
    "    # animiate background\n",
    "    time += 1\n",
    "    center = debris_info.get_center()\n",
    "    size = debris_info.get_size()\n",
    "    wtime = (time / 8) % center[0]\n",
    "    canvas.draw_image(nebula_image, nebula_info.get_center(),\n",
    "                      nebula_info.get_size(), [WIDTH / 2, HEIGHT / 2],\n",
    "                      [WIDTH, HEIGHT])\n",
    "    canvas.draw_image(debris_image, [center[0] - wtime, center[1]],\n",
    "                      [size[0] - 2 * wtime, size[1]],\n",
    "                      [WIDTH / 2 + 1.25 * wtime, HEIGHT / 2],\n",
    "                      [WIDTH - 2.5 * wtime, HEIGHT])\n",
    "    canvas.draw_image(debris_image, [size[0] - wtime, center[1]],\n",
    "                      [2 * wtime, size[1]], [1.25 * wtime, HEIGHT / 2],\n",
    "                      [2.5 * wtime, HEIGHT])\n",
    "\n",
    "    # increase rock's velocity using score\n",
    "    for rock in rock_group:\n",
    "        for i in range(2):\n",
    "            rock.vel[i] = rock.init_vel[i] + (rock.init_vel[i] * score * 0.03)\n",
    "\n",
    "    # draw ship and sprites\n",
    "    my_ship.draw(canvas)\n",
    "    my_ship.update()\n",
    "    process_sprite_group(rock_group, canvas)\n",
    "    process_sprite_group(missile_group, canvas)\n",
    "    process_sprite_group(explosion_group, canvas)\n",
    "\n",
    "    # process collisions\n",
    "    if group_collide(rock_group, my_ship):\n",
    "        lives -= 1\n",
    "    score += group_group_collide(missile_group, rock_group) * 10\n",
    "\n",
    "    # check game status\n",
    "    if lives == 0:\n",
    "        rock_group = set()\n",
    "        started = False\n",
    "\n",
    "    # draw UI\n",
    "    canvas.draw_text(\"Lives\", [50, 60], 30, \"white\")\n",
    "\n",
    "    # draw splash screen if not started\n",
    "    if not started:\n",
    "        canvas.draw_image(splash_image, splash_info.get_center(),\n",
    "                          splash_info.get_size(), [WIDTH / 2, HEIGHT / 2],\n",
    "                          splash_info.get_size())\n",
    "\n",
    "\n",
    "# timer handler that spawns a rock\n",
    "def rock_spawner():\n",
    "    global rock_group, started\n",
    "    if len(rock_group) > 12 or not started:\n",
    "        return\n",
    "    rock_vel = [random.random() * .6 - .3, random.random() * .6 - .3]\n",
    "    rock_avel = random.random() * .2 - .1\n",
    "    rock_pos = [random.randrange(0, WIDTH), random.randrange(0, HEIGHT)]\n",
    "    # ensure rock_pos is at least 100px away of my_ship\n",
    "    while dist(rock_pos, my_ship.pos) < 100:\n",
    "        rock_pos = [random.randrange(0, WIDTH), random.randrange(0, HEIGHT)]\n",
    "    # add rock to the group\n",
    "    rock_group.add(Sprite(rock_pos, rock_vel, 0, rock_avel,\n",
    "                          asteroid_image, asteroid_info))\n",
    "    \n",
    "# rock_group = set()\n",
    "# missile_group = set()"
   ]
  },
  {
   "cell_type": "code",
   "execution_count": null,
   "metadata": {},
   "outputs": [],
   "source": [
    "def hello():\n",
    "    print \"hello, world\"\n",
    "\n",
    "t = Timer(30.0, hello)\n",
    "t.start() # after 30 seconds, \"hello, world\" will be printed"
   ]
  },
  {
   "cell_type": "code",
   "execution_count": null,
   "metadata": {},
   "outputs": [],
   "source": [
    "class Bus:\n",
    "    __capacity = Max Passengers\n",
    "    __passengers = {} # Key on the passenger name\n",
    "\n",
    "# In your addPassenger method, you need to make sure you haven't reached your \"capacity\".\n",
    "# If you have, raise an exception. Also ensure the parameter is type checked and only allows Passenger objects.\n",
    "\n",
    "\n",
    "# atstop = dict()\n",
    "# bus1.atstop = False\n",
    "# bus2.atstop = True\n",
    "# bus3.atstop = False\n",
    "# if len(check_atstop(buses)) > 0:\n",
    "#     pass"
   ]
  }
 ],
 "metadata": {
  "kernelspec": {
   "display_name": "Python 3",
   "language": "python",
   "name": "python3"
  },
  "language_info": {
   "codemirror_mode": {
    "name": "ipython",
    "version": 3
   },
   "file_extension": ".py",
   "mimetype": "text/x-python",
   "name": "python",
   "nbconvert_exporter": "python",
   "pygments_lexer": "ipython3",
   "version": "3.6.3"
  }
 },
 "nbformat": 4,
 "nbformat_minor": 2
}
