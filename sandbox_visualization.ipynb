{
 "cells": [
  {
   "cell_type": "markdown",
   "metadata": {},
   "source": [
    "# A lighter sandbox for quick development and ensembling of components\n",
    "## Currently in progress: pipeline for route shape SQL query through Carto\n",
    "## Objectives:\n",
    "0. determine which route to use (may have different routes for a given bus line)\n",
    "1. generate a gpd and a shapefile for route shape\n",
    "2. plot the route on canvas and on gmap API"
   ]
  },
  {
   "cell_type": "markdown",
   "metadata": {},
   "source": [
    "# Next Tasks:\n",
    "[o] Allow direction specification in plot_tsd\n",
    "\n",
    "[o] Plot CallDistanceAlongRoute (Done)\n",
    "\n",
    "[x] Filter out layover records\n",
    "\n",
    "[x] Fix durations: time elapsed -> timestamps\n",
    "\n",
    "[x] Timezone ['RecordedAtTime'] : in data pipeline sandbox\n",
    "\n",
    "[x] Pack the stuff here into functions"
   ]
  },
  {
   "cell_type": "code",
   "execution_count": 62,
   "metadata": {},
   "outputs": [
    {
     "name": "stdout",
     "output_type": "stream",
     "text": [
      "Populating the interactive namespace from numpy and matplotlib\n"
     ]
    },
    {
     "name": "stderr",
     "output_type": "stream",
     "text": [
      "/Users/Yuwen/anaconda/lib/python3.6/site-packages/IPython/core/magics/pylab.py:160: UserWarning: pylab import has clobbered these variables: ['datetime', 'test', 'shape']\n",
      "`%matplotlib` prevents importing * from pylab and numpy\n",
      "  \"\\n`%matplotlib` prevents importing * from pylab and numpy\"\n"
     ]
    }
   ],
   "source": [
    "# import packages\n",
    "from __future__ import print_function, division\n",
    "\n",
    "import os\n",
    "import sys\n",
    "import json\n",
    "\n",
    "import numpy as np\n",
    "import pandas as pd\n",
    "import matplotlib.pyplot as plt\n",
    "\n",
    "import time\n",
    "import calendar\n",
    "from datetime import datetime\n",
    "\n",
    "try:\n",
    "    import urllib2 as urllib\n",
    "except ImportError:\n",
    "    import urllib.request as urllib\n",
    "\n",
    "%pylab inline"
   ]
  },
  {
   "cell_type": "code",
   "execution_count": 63,
   "metadata": {},
   "outputs": [],
   "source": [
    "# import with py 2 and py 3 compatibility\n",
    "try:\n",
    "    import urllib2\n",
    "    from urllib2 import HTTPError\n",
    "    from urllib2 import urlopen\n",
    "    from urllib import urlencode\n",
    "    from StringIO import StringIO as io\n",
    "\n",
    "except ImportError:\n",
    "    import urllib\n",
    "    from urllib.error import HTTPError\n",
    "    from urllib.request import urlopen, Request\n",
    "    from urllib.parse import urlencode\n",
    "    from io import BytesIO as io\n",
    "\n",
    "import ast"
   ]
  },
  {
   "cell_type": "code",
   "execution_count": 64,
   "metadata": {},
   "outputs": [],
   "source": [
    "import fiona\n",
    "import geopandas as gpd\n",
    "from shapely.geometry import Point"
   ]
  },
  {
   "cell_type": "code",
   "execution_count": 65,
   "metadata": {},
   "outputs": [],
   "source": [
    "from fetchbus import bus_data, plot_tsd"
   ]
  },
  {
   "cell_type": "markdown",
   "metadata": {},
   "source": [
    "# 0. Read data"
   ]
  },
  {
   "cell_type": "code",
   "execution_count": 34,
   "metadata": {},
   "outputs": [
    {
     "data": {
      "text/html": [
       "<div>\n",
       "<style scoped>\n",
       "    .dataframe tbody tr th:only-of-type {\n",
       "        vertical-align: middle;\n",
       "    }\n",
       "\n",
       "    .dataframe tbody tr th {\n",
       "        vertical-align: top;\n",
       "    }\n",
       "\n",
       "    .dataframe thead th {\n",
       "        text-align: right;\n",
       "    }\n",
       "</style>\n",
       "<table border=\"1\" class=\"dataframe\">\n",
       "  <thead>\n",
       "    <tr style=\"text-align: right;\">\n",
       "      <th></th>\n",
       "      <th>Unnamed: 0</th>\n",
       "      <th>Bearing</th>\n",
       "      <th>BlockRef</th>\n",
       "      <th>CallDistanceAlongRoute</th>\n",
       "      <th>DataFrameRef</th>\n",
       "      <th>DatedVehicleJourneyRef</th>\n",
       "      <th>DestinationName</th>\n",
       "      <th>DestinationRef</th>\n",
       "      <th>DirectionRef</th>\n",
       "      <th>DistanceFromCall</th>\n",
       "      <th>...</th>\n",
       "      <th>PresentableDistance</th>\n",
       "      <th>ProgressRate</th>\n",
       "      <th>ProgressStatus</th>\n",
       "      <th>PublishedLineName</th>\n",
       "      <th>RecordedAtTime</th>\n",
       "      <th>StopPointName</th>\n",
       "      <th>StopPointRef</th>\n",
       "      <th>StopsFromCall</th>\n",
       "      <th>VehicleRef</th>\n",
       "      <th>VisitNumber</th>\n",
       "    </tr>\n",
       "  </thead>\n",
       "  <tbody>\n",
       "    <tr>\n",
       "      <th>0</th>\n",
       "      <td>0</td>\n",
       "      <td>53.808422</td>\n",
       "      <td>MTA NYCT_OF_B8-Weekday_C_OF_56160_M1-109</td>\n",
       "      <td>3859.94</td>\n",
       "      <td>2018-04-03</td>\n",
       "      <td>MTA NYCT_OF_B8-Weekday-136500_M7_242</td>\n",
       "      <td>HARLEM 147 ST via MADISON</td>\n",
       "      <td>MTA_803003</td>\n",
       "      <td>0</td>\n",
       "      <td>12.06</td>\n",
       "      <td>...</td>\n",
       "      <td>at stop</td>\n",
       "      <td>normalProgress</td>\n",
       "      <td>NaN</td>\n",
       "      <td>M1</td>\n",
       "      <td>2018-04-03T23:02:28.000-04:00</td>\n",
       "      <td>MADISON AV/E 55  ST</td>\n",
       "      <td>MTA_400362</td>\n",
       "      <td>0</td>\n",
       "      <td>MTA NYCT_6770</td>\n",
       "      <td>1</td>\n",
       "    </tr>\n",
       "    <tr>\n",
       "      <th>1</th>\n",
       "      <td>1</td>\n",
       "      <td>337.077120</td>\n",
       "      <td>MTA NYCT_OF_B8-Weekday_C_OF_25260_M1-111</td>\n",
       "      <td>12340.19</td>\n",
       "      <td>2018-04-03</td>\n",
       "      <td>MTA NYCT_OF_B8-Weekday-130500_M7_243</td>\n",
       "      <td>HARLEM 147 ST via MADISON</td>\n",
       "      <td>MTA_803003</td>\n",
       "      <td>0</td>\n",
       "      <td>25.14</td>\n",
       "      <td>...</td>\n",
       "      <td>at stop</td>\n",
       "      <td>noProgress</td>\n",
       "      <td>layover</td>\n",
       "      <td>M1</td>\n",
       "      <td>2018-04-03T23:02:27.000-04:00</td>\n",
       "      <td>146 ST/LENOX AV</td>\n",
       "      <td>MTA_803003</td>\n",
       "      <td>0</td>\n",
       "      <td>MTA NYCT_3882</td>\n",
       "      <td>1</td>\n",
       "    </tr>\n",
       "    <tr>\n",
       "      <th>2</th>\n",
       "      <td>2</td>\n",
       "      <td>233.885240</td>\n",
       "      <td>MTA NYCT_OF_B8-Weekday_C_OF_57060_M1-154</td>\n",
       "      <td>9805.01</td>\n",
       "      <td>2018-04-03</td>\n",
       "      <td>MTA NYCT_OF_B8-Weekday-131500_M7_244</td>\n",
       "      <td>E VILLAGE 8 ST via 5 AV</td>\n",
       "      <td>MTA_403793</td>\n",
       "      <td>1</td>\n",
       "      <td>142.89</td>\n",
       "      <td>...</td>\n",
       "      <td>approaching</td>\n",
       "      <td>normalProgress</td>\n",
       "      <td>NaN</td>\n",
       "      <td>M1</td>\n",
       "      <td>2018-04-03T23:02:09.667-04:00</td>\n",
       "      <td>5 AV/W 33 ST</td>\n",
       "      <td>MTA_400324</td>\n",
       "      <td>0</td>\n",
       "      <td>MTA NYCT_3831</td>\n",
       "      <td>1</td>\n",
       "    </tr>\n",
       "    <tr>\n",
       "      <th>3</th>\n",
       "      <td>3</td>\n",
       "      <td>233.918930</td>\n",
       "      <td>MTA NYCT_OF_B8-Weekday_C_OF_46800_M1-134</td>\n",
       "      <td>6718.93</td>\n",
       "      <td>2018-04-03</td>\n",
       "      <td>MTA NYCT_OF_B8-Weekday-135500_M1_148</td>\n",
       "      <td>E VILLAGE 8 ST via 5 AV</td>\n",
       "      <td>MTA_403793</td>\n",
       "      <td>1</td>\n",
       "      <td>195.90</td>\n",
       "      <td>...</td>\n",
       "      <td>&lt; 1 stop away</td>\n",
       "      <td>normalProgress</td>\n",
       "      <td>NaN</td>\n",
       "      <td>M1</td>\n",
       "      <td>2018-04-03T23:02:23.000-04:00</td>\n",
       "      <td>5 AV/E 72 ST</td>\n",
       "      <td>MTA_400124</td>\n",
       "      <td>0</td>\n",
       "      <td>MTA NYCT_6757</td>\n",
       "      <td>1</td>\n",
       "    </tr>\n",
       "    <tr>\n",
       "      <th>4</th>\n",
       "      <td>4</td>\n",
       "      <td>53.794224</td>\n",
       "      <td>MTA NYCT_OF_B8-Weekday_C_OF_52620_M7-205</td>\n",
       "      <td>5211.70</td>\n",
       "      <td>2018-04-03</td>\n",
       "      <td>MTA NYCT_OF_B8-Weekday-134500_M1_151</td>\n",
       "      <td>HARLEM 147 ST via MADISON</td>\n",
       "      <td>MTA_803003</td>\n",
       "      <td>0</td>\n",
       "      <td>259.43</td>\n",
       "      <td>...</td>\n",
       "      <td>&lt; 1 stop away</td>\n",
       "      <td>normalProgress</td>\n",
       "      <td>NaN</td>\n",
       "      <td>M1</td>\n",
       "      <td>2018-04-03T23:02:20.000-04:00</td>\n",
       "      <td>MADISON AV/E 72 ST</td>\n",
       "      <td>MTA_400030</td>\n",
       "      <td>0</td>\n",
       "      <td>MTA NYCT_3886</td>\n",
       "      <td>1</td>\n",
       "    </tr>\n",
       "  </tbody>\n",
       "</table>\n",
       "<p>5 rows × 30 columns</p>\n",
       "</div>"
      ],
      "text/plain": [
       "   Unnamed: 0     Bearing                                  BlockRef  \\\n",
       "0           0   53.808422  MTA NYCT_OF_B8-Weekday_C_OF_56160_M1-109   \n",
       "1           1  337.077120  MTA NYCT_OF_B8-Weekday_C_OF_25260_M1-111   \n",
       "2           2  233.885240  MTA NYCT_OF_B8-Weekday_C_OF_57060_M1-154   \n",
       "3           3  233.918930  MTA NYCT_OF_B8-Weekday_C_OF_46800_M1-134   \n",
       "4           4   53.794224  MTA NYCT_OF_B8-Weekday_C_OF_52620_M7-205   \n",
       "\n",
       "   CallDistanceAlongRoute DataFrameRef                DatedVehicleJourneyRef  \\\n",
       "0                 3859.94   2018-04-03  MTA NYCT_OF_B8-Weekday-136500_M7_242   \n",
       "1                12340.19   2018-04-03  MTA NYCT_OF_B8-Weekday-130500_M7_243   \n",
       "2                 9805.01   2018-04-03  MTA NYCT_OF_B8-Weekday-131500_M7_244   \n",
       "3                 6718.93   2018-04-03  MTA NYCT_OF_B8-Weekday-135500_M1_148   \n",
       "4                 5211.70   2018-04-03  MTA NYCT_OF_B8-Weekday-134500_M1_151   \n",
       "\n",
       "             DestinationName DestinationRef  DirectionRef  DistanceFromCall  \\\n",
       "0  HARLEM 147 ST via MADISON     MTA_803003             0             12.06   \n",
       "1  HARLEM 147 ST via MADISON     MTA_803003             0             25.14   \n",
       "2    E VILLAGE 8 ST via 5 AV     MTA_403793             1            142.89   \n",
       "3    E VILLAGE 8 ST via 5 AV     MTA_403793             1            195.90   \n",
       "4  HARLEM 147 ST via MADISON     MTA_803003             0            259.43   \n",
       "\n",
       "      ...     PresentableDistance    ProgressRate ProgressStatus  \\\n",
       "0     ...                 at stop  normalProgress            NaN   \n",
       "1     ...                 at stop      noProgress        layover   \n",
       "2     ...             approaching  normalProgress            NaN   \n",
       "3     ...           < 1 stop away  normalProgress            NaN   \n",
       "4     ...           < 1 stop away  normalProgress            NaN   \n",
       "\n",
       "   PublishedLineName                 RecordedAtTime        StopPointName  \\\n",
       "0                 M1  2018-04-03T23:02:28.000-04:00  MADISON AV/E 55  ST   \n",
       "1                 M1  2018-04-03T23:02:27.000-04:00      146 ST/LENOX AV   \n",
       "2                 M1  2018-04-03T23:02:09.667-04:00         5 AV/W 33 ST   \n",
       "3                 M1  2018-04-03T23:02:23.000-04:00         5 AV/E 72 ST   \n",
       "4                 M1  2018-04-03T23:02:20.000-04:00   MADISON AV/E 72 ST   \n",
       "\n",
       "   StopPointRef StopsFromCall     VehicleRef VisitNumber  \n",
       "0    MTA_400362             0  MTA NYCT_6770           1  \n",
       "1    MTA_803003             0  MTA NYCT_3882           1  \n",
       "2    MTA_400324             0  MTA NYCT_3831           1  \n",
       "3    MTA_400124             0  MTA NYCT_6757           1  \n",
       "4    MTA_400030             0  MTA NYCT_3886           1  \n",
       "\n",
       "[5 rows x 30 columns]"
      ]
     },
     "execution_count": 34,
     "metadata": {},
     "output_type": "execute_result"
    }
   ],
   "source": [
    "# load historical AVL data\n",
    "df = pd.read_csv(\"M1-Tue-180403-230230-100.csv\")\n",
    "df.head()"
   ]
  },
  {
   "cell_type": "code",
   "execution_count": 36,
   "metadata": {},
   "outputs": [
    {
     "data": {
      "text/plain": [
       "<matplotlib.axes._subplots.AxesSubplot at 0x11d1f77f0>"
      ]
     },
     "execution_count": 36,
     "metadata": {},
     "output_type": "execute_result"
    },
    {
     "data": {
      "image/png": "[encoded data removed]",
      "text/plain": [
       "<matplotlib.figure.Figure at 0x11d1fe7b8>"
      ]
     },
     "metadata": {},
     "output_type": "display_data"
    }
   ],
   "source": [
    "# inspect update times\n",
    "df = df[df['DirectionRef'] == 1]\n",
    "df['RecordedAtTime'].hist()\n",
    "\n",
    "#df2 = df.sort_values('RecordedAtTime')\n",
    "#df2['RecordedAtTime'].diff()\n",
    "\n",
    "#len(df['CallDistanceAlongRoute'].unique())"
   ]
  },
  {
   "cell_type": "markdown",
   "metadata": {},
   "source": [
    "# 1. Plot Time-space Diagram"
   ]
  },
  {
   "cell_type": "code",
   "execution_count": 54,
   "metadata": {},
   "outputs": [],
   "source": [
    "# function for plotting time-space diagram\n",
    "def plot_tsd(df, dir_ref=0, start_min=None, end_min=None, save=False, fname='TSD'):\n",
    "    \"\"\"\n",
    "    Plot the time-space diagram for a given dataframe containing\n",
    "    real-time MTA bus data (as generated from fetchbus.py)\n",
    "    PARAMETERS\n",
    "    ----------\n",
    "    df: pd.DataFrame\n",
    "        Input dataframe containing required columns for plotting time-space diagram.\n",
    "    dir_ref: integer (0 or 1)\n",
    "        The direction to be plotted.\n",
    "    start_min: numeric\n",
    "        Plot from this given minute (time elapsed).\n",
    "    end_min: numeric\n",
    "        Plot until this given minute (time elapsed).\n",
    "    save: boolean\n",
    "        Save TSD to .png at current directory.\n",
    "    fname: string\n",
    "        Assign a filename for saved TSD (otherwise may be overwritten).\n",
    "        \n",
    "    RETURNS\n",
    "    -------\n",
    "    fig:\n",
    "    ax:\n",
    "    filename.png: png\n",
    "        a saved TSD file (optional)\n",
    "    \"\"\"\n",
    "    # determine time interval to be plotted\n",
    "    try:\n",
    "        s = start_min * 2 # * 60 sec / 30 sec interval\n",
    "        e = end_min * 2\n",
    "    except:\n",
    "        s = start_min\n",
    "        e = end_min\n",
    "    \n",
    "    # subset df for given direction\n",
    "    df = df[df['DirectionRef'] == dir_ref]\n",
    "    \n",
    "    # convert time format\n",
    "    df['RecordedAtTime'] = pd.to_datetime(df['RecordedAtTime'])\n",
    "\n",
    "    # plot figure\n",
    "    fig = plt.figure(figsize=(12,8))\n",
    "    ax = fig.add_subplot(111)\n",
    "    \n",
    "    # calculate vehicle distance along the route\n",
    "    df['VehDistAlongRoute'] = df['CallDistanceAlongRoute'] - df['DistanceFromCall']\n",
    "    \n",
    "    # plot the trajectory for each vehicle\n",
    "    for i, v in enumerate(df['VehicleRef'].unique()):\n",
    "        # subset data for single vehicle\n",
    "        veh_df = df[df['VehicleRef'] == v]\n",
    "        # subset within specified time window\n",
    "        veh_df = veh_df.iloc[s:e,:]\n",
    "        \n",
    "        # plot CallDistanceAlongRoute (bus stops)\n",
    "        [ax.plot([df['RecordedAtTime'].min(), df['RecordedAtTime'].max()], [i, i], color='gray', alpha=0.1) for i in df['CallDistanceAlongRoute'].unique()]\n",
    "        \n",
    "        ax.plot(veh_df['RecordedAtTime'], veh_df['VehDistAlongRoute'], marker='.')\n",
    "        ax.annotate('%s'%v.split(\"_\")[1], (list(veh_df['RecordedAtTime'])[0],list(veh_df['VehDistAlongRoute'])[0]))\n",
    "        \n",
    "        ax.grid()\n",
    "        ax.set_xlabel(\"time\", fontsize=14)\n",
    "        ax.set_ylabel(\"distance along route (m)\", fontsize=14)\n",
    "        ax.set_title(\"Time-space Diagram\", fontsize=18)\n",
    "    \n",
    "    plt.tight_layout()\n",
    "    \n",
    "    # save figure locally if specified\n",
    "    if save:\n",
    "        plt.savefig(\"%s.png\"%(fname), dpi=300)\n",
    "    else:\n",
    "        pass\n",
    "    plt.show()\n",
    "    \n",
    "    return fig, ax"
   ]
  },
  {
   "cell_type": "code",
   "execution_count": 55,
   "metadata": {},
   "outputs": [
    {
     "data": {
      "image/png": "[encoded data removed]",
      "text/plain": [
       "<matplotlib.figure.Figure at 0x126d7ec50>"
      ]
     },
     "metadata": {},
     "output_type": "display_data"
    },
    {
     "data": {
      "text/plain": [
       "(<matplotlib.figure.Figure at 0x126d7ec50>,\n",
       " <matplotlib.axes._subplots.AxesSubplot at 0x126d61da0>)"
      ]
     },
     "execution_count": 55,
     "metadata": {},
     "output_type": "execute_result"
    }
   ],
   "source": [
    "plot_tsd(df, 1, save=True, fname='TSD_test')"
   ]
  },
  {
   "cell_type": "markdown",
   "metadata": {},
   "source": [
    "# 2. Route Line Topology Plotting"
   ]
  },
  {
   "cell_type": "code",
   "execution_count": 147,
   "metadata": {},
   "outputs": [
    {
     "data": {
      "text/plain": [
       "[<matplotlib.lines.Line2D at 0x125c2bcc0>]"
      ]
     },
     "execution_count": 147,
     "metadata": {},
     "output_type": "execute_result"
    },
    {
     "data": {
      "image/png": "[encoded data removed]",
      "text/plain": [
       "<matplotlib.figure.Figure at 0x125aea6a0>"
      ]
     },
     "metadata": {},
     "output_type": "display_data"
    }
   ],
   "source": [
    "stops_x = df['CallDistanceAlongRoute'].unique()\n",
    "stops_y = [0] * len(stops_x)\n",
    "\n",
    "fig = plt.figure(figsize=(20,6))\n",
    "ax = fig.add_subplot(111)\n",
    "ax.plot(stops_x, stops_y, 'o-', markersize=3)"
   ]
  },
  {
   "cell_type": "markdown",
   "metadata": {},
   "source": [
    "# 3. Route Shape Plotting on Map"
   ]
  },
  {
   "cell_type": "code",
   "execution_count": 60,
   "metadata": {},
   "outputs": [],
   "source": [
    "# set SQL source\n",
    "SQL_SOURCE = 'https://ywc249.carto.com/api/v2/sql?q='\n",
    "\n",
    "# define query function\n",
    "def queryCartoDB(query, format='CSV', source=SQL_SOURCE):\n",
    "    \"\"\"\n",
    "    Queries carto datasets from a given carto account\n",
    "    \n",
    "    ARGUMENTS\n",
    "    ----------\n",
    "    query: a valid sql query string\n",
    "    format: outlut format (default: CSV)\n",
    "    source: a valid sql api endpoint OPTIONAL (default: Carto ywc249 account)\n",
    "\n",
    "    RETURN\n",
    "    ----------\n",
    "    - the return of the sql query AS A STRING\n",
    "    \n",
    "    NOTES\n",
    "    ----------\n",
    "    designed for the carto API, tested only with CSV return format\n",
    "    \"\"\"\n",
    "    \n",
    "    data = urlencode({'format':format, 'q':query}).encode('utf-8')\n",
    "    try:\n",
    "        response = urlopen(source, data)\n",
    "    except HTTPError as e:\n",
    "        raise ValueError('\\n'.join(ast.literal_eval(e.readline())['error']))\n",
    "    except Exception:\n",
    "        raise\n",
    "    return response.read()"
   ]
  },
  {
   "cell_type": "code",
   "execution_count": 148,
   "metadata": {},
   "outputs": [
    {
     "data": {
      "text/html": [
       "<div>\n",
       "<style scoped>\n",
       "    .dataframe tbody tr th:only-of-type {\n",
       "        vertical-align: middle;\n",
       "    }\n",
       "\n",
       "    .dataframe tbody tr th {\n",
       "        vertical-align: top;\n",
       "    }\n",
       "\n",
       "    .dataframe thead th {\n",
       "        text-align: right;\n",
       "    }\n",
       "</style>\n",
       "<table border=\"1\" class=\"dataframe\">\n",
       "  <thead>\n",
       "    <tr style=\"text-align: right;\">\n",
       "      <th></th>\n",
       "      <th>Unnamed: 0</th>\n",
       "      <th>Bearing</th>\n",
       "      <th>BlockRef</th>\n",
       "      <th>CallDistanceAlongRoute</th>\n",
       "      <th>DataFrameRef</th>\n",
       "      <th>DatedVehicleJourneyRef</th>\n",
       "      <th>DestinationName</th>\n",
       "      <th>DestinationRef</th>\n",
       "      <th>DirectionRef</th>\n",
       "      <th>DistanceFromCall</th>\n",
       "      <th>...</th>\n",
       "      <th>PresentableDistance</th>\n",
       "      <th>ProgressRate</th>\n",
       "      <th>ProgressStatus</th>\n",
       "      <th>PublishedLineName</th>\n",
       "      <th>RecordedAtTime</th>\n",
       "      <th>StopPointName</th>\n",
       "      <th>StopPointRef</th>\n",
       "      <th>StopsFromCall</th>\n",
       "      <th>VehicleRef</th>\n",
       "      <th>VisitNumber</th>\n",
       "    </tr>\n",
       "  </thead>\n",
       "  <tbody>\n",
       "    <tr>\n",
       "      <th>0</th>\n",
       "      <td>0</td>\n",
       "      <td>157.07460</td>\n",
       "      <td>MTA NYCT_MV_B8-Weekday_C_MV_53460_M96-33</td>\n",
       "      <td>2895.96</td>\n",
       "      <td>2018-04-06</td>\n",
       "      <td>MTA NYCT_MV_B8-Weekday-143000_M96_37</td>\n",
       "      <td>EAST SIDE 1 AV CROSSTOWN</td>\n",
       "      <td>MTA_903003</td>\n",
       "      <td>0</td>\n",
       "      <td>20.31</td>\n",
       "      <td>...</td>\n",
       "      <td>at stop</td>\n",
       "      <td>normalProgress</td>\n",
       "      <td>NaN</td>\n",
       "      <td>M96</td>\n",
       "      <td>2018-04-07T00:07:16.000-04:00</td>\n",
       "      <td>E 97 ST/1 AV</td>\n",
       "      <td>MTA_903003</td>\n",
       "      <td>0</td>\n",
       "      <td>MTA NYCT_6697</td>\n",
       "      <td>1</td>\n",
       "    </tr>\n",
       "    <tr>\n",
       "      <th>1</th>\n",
       "      <td>1</td>\n",
       "      <td>337.10397</td>\n",
       "      <td>MTA NYCT_MV_B8-Weekday_C_MV_25200_M96-11</td>\n",
       "      <td>258.65</td>\n",
       "      <td>2018-04-06</td>\n",
       "      <td>MTA NYCT_MV_B8-Weekday-144500_M96_35</td>\n",
       "      <td>EAST SIDE 1 AV CROSSTOWN</td>\n",
       "      <td>MTA_903003</td>\n",
       "      <td>0</td>\n",
       "      <td>51.97</td>\n",
       "      <td>...</td>\n",
       "      <td>approaching</td>\n",
       "      <td>normalProgress</td>\n",
       "      <td>NaN</td>\n",
       "      <td>M96</td>\n",
       "      <td>2018-04-07T00:06:53.000-04:00</td>\n",
       "      <td>W 96 ST/AMSTERDAM AV</td>\n",
       "      <td>MTA_401935</td>\n",
       "      <td>0</td>\n",
       "      <td>MTA NYCT_3859</td>\n",
       "      <td>1</td>\n",
       "    </tr>\n",
       "    <tr>\n",
       "      <th>2</th>\n",
       "      <td>2</td>\n",
       "      <td>53.96758</td>\n",
       "      <td>NaN</td>\n",
       "      <td>1098.83</td>\n",
       "      <td>2018-04-06</td>\n",
       "      <td>MTA NYCT_MV_B8-Weekday-144000_M96_36</td>\n",
       "      <td>WEST SIDE WEST END AV CROSSTOWN</td>\n",
       "      <td>MTA_903004</td>\n",
       "      <td>1</td>\n",
       "      <td>173.73</td>\n",
       "      <td>...</td>\n",
       "      <td>&lt; 1 stop away</td>\n",
       "      <td>normalProgress</td>\n",
       "      <td>NaN</td>\n",
       "      <td>M96</td>\n",
       "      <td>2018-04-07T00:06:51.000-04:00</td>\n",
       "      <td>E 97 ST/5 AV</td>\n",
       "      <td>MTA_401961</td>\n",
       "      <td>0</td>\n",
       "      <td>MTA NYCT_3849</td>\n",
       "      <td>1</td>\n",
       "    </tr>\n",
       "    <tr>\n",
       "      <th>3</th>\n",
       "      <td>0</td>\n",
       "      <td>157.07460</td>\n",
       "      <td>MTA NYCT_MV_B8-Weekday_C_MV_53460_M96-33</td>\n",
       "      <td>2895.96</td>\n",
       "      <td>2018-04-06</td>\n",
       "      <td>MTA NYCT_MV_B8-Weekday-143000_M96_37</td>\n",
       "      <td>EAST SIDE 1 AV CROSSTOWN</td>\n",
       "      <td>MTA_903003</td>\n",
       "      <td>0</td>\n",
       "      <td>20.31</td>\n",
       "      <td>...</td>\n",
       "      <td>at stop</td>\n",
       "      <td>normalProgress</td>\n",
       "      <td>NaN</td>\n",
       "      <td>M96</td>\n",
       "      <td>2018-04-07T00:07:16.000-04:00</td>\n",
       "      <td>E 97 ST/1 AV</td>\n",
       "      <td>MTA_903003</td>\n",
       "      <td>0</td>\n",
       "      <td>MTA NYCT_6697</td>\n",
       "      <td>1</td>\n",
       "    </tr>\n",
       "    <tr>\n",
       "      <th>4</th>\n",
       "      <td>1</td>\n",
       "      <td>53.96758</td>\n",
       "      <td>NaN</td>\n",
       "      <td>1098.83</td>\n",
       "      <td>2018-04-06</td>\n",
       "      <td>MTA NYCT_MV_B8-Weekday-144000_M96_36</td>\n",
       "      <td>WEST SIDE WEST END AV CROSSTOWN</td>\n",
       "      <td>MTA_903004</td>\n",
       "      <td>1</td>\n",
       "      <td>161.32</td>\n",
       "      <td>...</td>\n",
       "      <td>&lt; 1 stop away</td>\n",
       "      <td>normalProgress</td>\n",
       "      <td>NaN</td>\n",
       "      <td>M96</td>\n",
       "      <td>2018-04-07T00:07:23.000-04:00</td>\n",
       "      <td>E 97 ST/5 AV</td>\n",
       "      <td>MTA_401961</td>\n",
       "      <td>0</td>\n",
       "      <td>MTA NYCT_3849</td>\n",
       "      <td>1</td>\n",
       "    </tr>\n",
       "  </tbody>\n",
       "</table>\n",
       "<p>5 rows × 30 columns</p>\n",
       "</div>"
      ],
      "text/plain": [
       "   Unnamed: 0    Bearing                                  BlockRef  \\\n",
       "0           0  157.07460  MTA NYCT_MV_B8-Weekday_C_MV_53460_M96-33   \n",
       "1           1  337.10397  MTA NYCT_MV_B8-Weekday_C_MV_25200_M96-11   \n",
       "2           2   53.96758                                       NaN   \n",
       "3           0  157.07460  MTA NYCT_MV_B8-Weekday_C_MV_53460_M96-33   \n",
       "4           1   53.96758                                       NaN   \n",
       "\n",
       "   CallDistanceAlongRoute DataFrameRef                DatedVehicleJourneyRef  \\\n",
       "0                 2895.96   2018-04-06  MTA NYCT_MV_B8-Weekday-143000_M96_37   \n",
       "1                  258.65   2018-04-06  MTA NYCT_MV_B8-Weekday-144500_M96_35   \n",
       "2                 1098.83   2018-04-06  MTA NYCT_MV_B8-Weekday-144000_M96_36   \n",
       "3                 2895.96   2018-04-06  MTA NYCT_MV_B8-Weekday-143000_M96_37   \n",
       "4                 1098.83   2018-04-06  MTA NYCT_MV_B8-Weekday-144000_M96_36   \n",
       "\n",
       "                   DestinationName DestinationRef  DirectionRef  \\\n",
       "0         EAST SIDE 1 AV CROSSTOWN     MTA_903003             0   \n",
       "1         EAST SIDE 1 AV CROSSTOWN     MTA_903003             0   \n",
       "2  WEST SIDE WEST END AV CROSSTOWN     MTA_903004             1   \n",
       "3         EAST SIDE 1 AV CROSSTOWN     MTA_903003             0   \n",
       "4  WEST SIDE WEST END AV CROSSTOWN     MTA_903004             1   \n",
       "\n",
       "   DistanceFromCall     ...     PresentableDistance    ProgressRate  \\\n",
       "0             20.31     ...                 at stop  normalProgress   \n",
       "1             51.97     ...             approaching  normalProgress   \n",
       "2            173.73     ...           < 1 stop away  normalProgress   \n",
       "3             20.31     ...                 at stop  normalProgress   \n",
       "4            161.32     ...           < 1 stop away  normalProgress   \n",
       "\n",
       "  ProgressStatus  PublishedLineName                 RecordedAtTime  \\\n",
       "0            NaN                M96  2018-04-07T00:07:16.000-04:00   \n",
       "1            NaN                M96  2018-04-07T00:06:53.000-04:00   \n",
       "2            NaN                M96  2018-04-07T00:06:51.000-04:00   \n",
       "3            NaN                M96  2018-04-07T00:07:16.000-04:00   \n",
       "4            NaN                M96  2018-04-07T00:07:23.000-04:00   \n",
       "\n",
       "          StopPointName  StopPointRef StopsFromCall     VehicleRef VisitNumber  \n",
       "0          E 97 ST/1 AV    MTA_903003             0  MTA NYCT_6697           1  \n",
       "1  W 96 ST/AMSTERDAM AV    MTA_401935             0  MTA NYCT_3859           1  \n",
       "2          E 97 ST/5 AV    MTA_401961             0  MTA NYCT_3849           1  \n",
       "3          E 97 ST/1 AV    MTA_903003             0  MTA NYCT_6697           1  \n",
       "4          E 97 ST/5 AV    MTA_401961             0  MTA NYCT_3849           1  \n",
       "\n",
       "[5 rows x 30 columns]"
      ]
     },
     "execution_count": 148,
     "metadata": {},
     "output_type": "execute_result"
    }
   ],
   "source": [
    "df = pd.read_csv(\"M96-Sat-180407-000718-10.csv\")\n",
    "df.head()"
   ]
  },
  {
   "cell_type": "code",
   "execution_count": 149,
   "metadata": {},
   "outputs": [
    {
     "data": {
      "text/plain": [
       "array(['MTA NYCT_MV_B8-Weekday-143000_M96_37',\n",
       "       'MTA NYCT_MV_B8-Weekday-144500_M96_35',\n",
       "       'MTA NYCT_MV_B8-Weekday-144000_M96_36',\n",
       "       'MTA NYCT_MV_B8-Weekday-145200_M96_37'], dtype=object)"
      ]
     },
     "execution_count": 149,
     "metadata": {},
     "output_type": "execute_result"
    }
   ],
   "source": [
    "df['DatedVehicleJourneyRef'].unique()"
   ]
  },
  {
   "cell_type": "code",
   "execution_count": 150,
   "metadata": {},
   "outputs": [
    {
     "data": {
      "text/plain": [
       "'MV_B8-Weekday-144000_M96_36'"
      ]
     },
     "execution_count": 150,
     "metadata": {},
     "output_type": "execute_result"
    }
   ],
   "source": [
    "df['DatedVehicleJourneyRef'].unique()\n",
    "df['DatedVehicleJourneyRef'].value_counts().idxmax()[9:]"
   ]
  },
  {
   "cell_type": "markdown",
   "metadata": {},
   "source": [
    "## Issue: Multiple routes and shapes\n",
    "current workaround: select the most common one"
   ]
  },
  {
   "cell_type": "code",
   "execution_count": 166,
   "metadata": {},
   "outputs": [],
   "source": [
    "# make query for a given route\n",
    "# the shape.txt files are pre-uploaded to my Carto space as csv files\n",
    "\n",
    "route = df['PublishedLineName'].unique()[0]\n",
    "boro = route[0].lower() # make query from respecttive GTFS shape csv\n",
    "trip_id = df['DatedVehicleJourneyRef'].value_counts().idxmax()[9:]\n",
    "\n",
    "q_shape = '''\n",
    "SELECT *\n",
    "FROM shapes_{0}\n",
    "WHERE shape_id = (\n",
    "  SELECT shape_id\n",
    "  FROM trips_{0}\n",
    "  WHERE trip_id = '{1}')\n",
    "ORDER BY shape_pt_sequence\n",
    "'''.format(boro, trip_id)\n",
    "\n",
    "q_stop = '''\n",
    "query stops shapefile here\n",
    "'''"
   ]
  },
  {
   "cell_type": "code",
   "execution_count": 167,
   "metadata": {},
   "outputs": [
    {
     "data": {
      "text/plain": [
       "\"\\nSELECT *\\nFROM shapes_m\\nWHERE shape_id = (\\n  SELECT shape_id\\n  FROM trips_m\\n  WHERE trip_id = 'MV_B8-Weekday-144000_M96_36')\\nORDER BY shape_pt_sequence\\n\""
      ]
     },
     "execution_count": 167,
     "metadata": {},
     "output_type": "execute_result"
    }
   ],
   "source": [
    "q_shape"
   ]
  },
  {
   "cell_type": "code",
   "execution_count": 168,
   "metadata": {},
   "outputs": [
    {
     "data": {
      "text/html": [
       "<div>\n",
       "<style scoped>\n",
       "    .dataframe tbody tr th:only-of-type {\n",
       "        vertical-align: middle;\n",
       "    }\n",
       "\n",
       "    .dataframe tbody tr th {\n",
       "        vertical-align: top;\n",
       "    }\n",
       "\n",
       "    .dataframe thead th {\n",
       "        text-align: right;\n",
       "    }\n",
       "</style>\n",
       "<table border=\"1\" class=\"dataframe\">\n",
       "  <thead>\n",
       "    <tr style=\"text-align: right;\">\n",
       "      <th></th>\n",
       "      <th>the_geom</th>\n",
       "      <th>cartodb_id</th>\n",
       "      <th>the_geom_webmercator</th>\n",
       "      <th>shape_id</th>\n",
       "      <th>shape_pt_lat</th>\n",
       "      <th>shape_pt_lon</th>\n",
       "      <th>shape_pt_sequence</th>\n",
       "    </tr>\n",
       "  </thead>\n",
       "  <tbody>\n",
       "    <tr>\n",
       "      <th>0</th>\n",
       "      <td>NaN</td>\n",
       "      <td>19905</td>\n",
       "      <td>NaN</td>\n",
       "      <td>M960076</td>\n",
       "      <td>40.784484</td>\n",
       "      <td>-73.945522</td>\n",
       "      <td>10001</td>\n",
       "    </tr>\n",
       "    <tr>\n",
       "      <th>1</th>\n",
       "      <td>NaN</td>\n",
       "      <td>19906</td>\n",
       "      <td>NaN</td>\n",
       "      <td>M960076</td>\n",
       "      <td>40.784870</td>\n",
       "      <td>-73.946423</td>\n",
       "      <td>10002</td>\n",
       "    </tr>\n",
       "    <tr>\n",
       "      <th>2</th>\n",
       "      <td>NaN</td>\n",
       "      <td>19907</td>\n",
       "      <td>NaN</td>\n",
       "      <td>M960076</td>\n",
       "      <td>40.784870</td>\n",
       "      <td>-73.946423</td>\n",
       "      <td>20001</td>\n",
       "    </tr>\n",
       "    <tr>\n",
       "      <th>3</th>\n",
       "      <td>NaN</td>\n",
       "      <td>19908</td>\n",
       "      <td>NaN</td>\n",
       "      <td>M960076</td>\n",
       "      <td>40.784941</td>\n",
       "      <td>-73.946589</td>\n",
       "      <td>20002</td>\n",
       "    </tr>\n",
       "    <tr>\n",
       "      <th>4</th>\n",
       "      <td>NaN</td>\n",
       "      <td>19909</td>\n",
       "      <td>NaN</td>\n",
       "      <td>M960076</td>\n",
       "      <td>40.784357</td>\n",
       "      <td>-73.947008</td>\n",
       "      <td>20003</td>\n",
       "    </tr>\n",
       "  </tbody>\n",
       "</table>\n",
       "</div>"
      ],
      "text/plain": [
       "   the_geom  cartodb_id  the_geom_webmercator shape_id  shape_pt_lat  \\\n",
       "0       NaN       19905                   NaN  M960076     40.784484   \n",
       "1       NaN       19906                   NaN  M960076     40.784870   \n",
       "2       NaN       19907                   NaN  M960076     40.784870   \n",
       "3       NaN       19908                   NaN  M960076     40.784941   \n",
       "4       NaN       19909                   NaN  M960076     40.784357   \n",
       "\n",
       "   shape_pt_lon  shape_pt_sequence  \n",
       "0    -73.945522              10001  \n",
       "1    -73.946423              10002  \n",
       "2    -73.946423              20001  \n",
       "3    -73.946589              20002  \n",
       "4    -73.947008              20003  "
      ]
     },
     "execution_count": 168,
     "metadata": {},
     "output_type": "execute_result"
    }
   ],
   "source": [
    "r_shape = pd.read_csv(io(queryCartoDB(q_shape)), sep=',')\n",
    "r_shape.head()"
   ]
  },
  {
   "cell_type": "code",
   "execution_count": 169,
   "metadata": {},
   "outputs": [
    {
     "data": {
      "text/html": [
       "<div>\n",
       "<style scoped>\n",
       "    .dataframe tbody tr th:only-of-type {\n",
       "        vertical-align: middle;\n",
       "    }\n",
       "\n",
       "    .dataframe tbody tr th {\n",
       "        vertical-align: top;\n",
       "    }\n",
       "\n",
       "    .dataframe thead th {\n",
       "        text-align: right;\n",
       "    }\n",
       "</style>\n",
       "<table border=\"1\" class=\"dataframe\">\n",
       "  <thead>\n",
       "    <tr style=\"text-align: right;\">\n",
       "      <th></th>\n",
       "      <th>the_geom</th>\n",
       "      <th>cartodb_id</th>\n",
       "      <th>the_geom_webmercator</th>\n",
       "      <th>shape_id</th>\n",
       "      <th>shape_pt_lat</th>\n",
       "      <th>shape_pt_lon</th>\n",
       "      <th>shape_pt_sequence</th>\n",
       "      <th>geometry</th>\n",
       "    </tr>\n",
       "  </thead>\n",
       "  <tbody>\n",
       "    <tr>\n",
       "      <th>0</th>\n",
       "      <td>NaN</td>\n",
       "      <td>19905</td>\n",
       "      <td>NaN</td>\n",
       "      <td>M960076</td>\n",
       "      <td>40.784484</td>\n",
       "      <td>-73.945522</td>\n",
       "      <td>10001</td>\n",
       "      <td>POINT (-73.945522 40.784484)</td>\n",
       "    </tr>\n",
       "    <tr>\n",
       "      <th>1</th>\n",
       "      <td>NaN</td>\n",
       "      <td>19906</td>\n",
       "      <td>NaN</td>\n",
       "      <td>M960076</td>\n",
       "      <td>40.784870</td>\n",
       "      <td>-73.946423</td>\n",
       "      <td>10002</td>\n",
       "      <td>POINT (-73.946423 40.78487)</td>\n",
       "    </tr>\n",
       "    <tr>\n",
       "      <th>2</th>\n",
       "      <td>NaN</td>\n",
       "      <td>19907</td>\n",
       "      <td>NaN</td>\n",
       "      <td>M960076</td>\n",
       "      <td>40.784870</td>\n",
       "      <td>-73.946423</td>\n",
       "      <td>20001</td>\n",
       "      <td>POINT (-73.946423 40.78487)</td>\n",
       "    </tr>\n",
       "    <tr>\n",
       "      <th>3</th>\n",
       "      <td>NaN</td>\n",
       "      <td>19908</td>\n",
       "      <td>NaN</td>\n",
       "      <td>M960076</td>\n",
       "      <td>40.784941</td>\n",
       "      <td>-73.946589</td>\n",
       "      <td>20002</td>\n",
       "      <td>POINT (-73.946589 40.784941)</td>\n",
       "    </tr>\n",
       "    <tr>\n",
       "      <th>4</th>\n",
       "      <td>NaN</td>\n",
       "      <td>19909</td>\n",
       "      <td>NaN</td>\n",
       "      <td>M960076</td>\n",
       "      <td>40.784357</td>\n",
       "      <td>-73.947008</td>\n",
       "      <td>20003</td>\n",
       "      <td>POINT (-73.947008 40.784357)</td>\n",
       "    </tr>\n",
       "  </tbody>\n",
       "</table>\n",
       "</div>"
      ],
      "text/plain": [
       "   the_geom  cartodb_id  the_geom_webmercator shape_id  shape_pt_lat  \\\n",
       "0       NaN       19905                   NaN  M960076     40.784484   \n",
       "1       NaN       19906                   NaN  M960076     40.784870   \n",
       "2       NaN       19907                   NaN  M960076     40.784870   \n",
       "3       NaN       19908                   NaN  M960076     40.784941   \n",
       "4       NaN       19909                   NaN  M960076     40.784357   \n",
       "\n",
       "   shape_pt_lon  shape_pt_sequence                      geometry  \n",
       "0    -73.945522              10001  POINT (-73.945522 40.784484)  \n",
       "1    -73.946423              10002   POINT (-73.946423 40.78487)  \n",
       "2    -73.946423              20001   POINT (-73.946423 40.78487)  \n",
       "3    -73.946589              20002  POINT (-73.946589 40.784941)  \n",
       "4    -73.947008              20003  POINT (-73.947008 40.784357)  "
      ]
     },
     "execution_count": 169,
     "metadata": {},
     "output_type": "execute_result"
    }
   ],
   "source": [
    "# create Point geom\n",
    "r_shape['geometry'] = [Point(r_shape.iloc[i,5], r_shape.iloc[i,4]) for i in range(len(r_shape))]\n",
    "r_shape.head()"
   ]
  },
  {
   "cell_type": "markdown",
   "metadata": {},
   "source": [
    "# Issue: import gmap"
   ]
  },
  {
   "cell_type": "code",
   "execution_count": 170,
   "metadata": {},
   "outputs": [
    {
     "data": {
      "text/plain": [
       "<matplotlib.axes._subplots.AxesSubplot at 0x125994668>"
      ]
     },
     "execution_count": 170,
     "metadata": {},
     "output_type": "execute_result"
    },
    {
     "data": {
      "image/png": "[encoded data removed]",
      "text/plain": [
       "<matplotlib.figure.Figure at 0x1259c7e10>"
      ]
     },
     "metadata": {},
     "output_type": "display_data"
    }
   ],
   "source": [
    "r_shape.plot('shape_pt_lon', 'shape_pt_lat')"
   ]
  },
  {
   "cell_type": "code",
   "execution_count": 171,
   "metadata": {},
   "outputs": [
    {
     "data": {
      "text/plain": [
       "<matplotlib.axes._subplots.AxesSubplot at 0x12598aef0>"
      ]
     },
     "execution_count": 171,
     "metadata": {},
     "output_type": "execute_result"
    },
    {
     "data": {
      "image/png": "[encoded data removed]",
      "text/plain": [
       "<matplotlib.figure.Figure at 0x125958630>"
      ]
     },
     "metadata": {},
     "output_type": "display_data"
    }
   ],
   "source": [
    "shape_gdf = gpd.GeoDataFrame(r_shape)\n",
    "shape_gdf.plot(facecolor='r', edgecolor='k', markersize=0.5, figsize=(10,10))"
   ]
  },
  {
   "cell_type": "code",
   "execution_count": null,
   "metadata": {},
   "outputs": [],
   "source": []
  },
  {
   "cell_type": "markdown",
   "metadata": {},
   "source": [
    "# Random Notes"
   ]
  },
  {
   "cell_type": "code",
   "execution_count": 25,
   "metadata": {},
   "outputs": [],
   "source": [
    "# this is a fix patch for previous versions of downloaded data\n",
    "mod = list(df['Unnamed: 0'])\n",
    "tiempo = 0\n",
    "ts = []\n",
    "for i,v in enumerate(mod[:-1]):\n",
    "    ts.append(tiempo)\n",
    "    if mod[i+1] < mod[i]:\n",
    "        tiempo += 30\n",
    "    else:\n",
    "        continue\n",
    "ts.append(ts[-1])\n",
    "df['ts'] = ts"
   ]
  },
  {
   "cell_type": "code",
   "execution_count": null,
   "metadata": {},
   "outputs": [],
   "source": [
    "#for r, d in data.iterrows():"
   ]
  }
 ],
 "metadata": {
  "kernelspec": {
   "display_name": "Python 3",
   "language": "python",
   "name": "python3"
  },
  "language_info": {
   "codemirror_mode": {
    "name": "ipython",
    "version": 3
   },
   "file_extension": ".py",
   "mimetype": "text/x-python",
   "name": "python",
   "nbconvert_exporter": "python",
   "pygments_lexer": "ipython3",
   "version": "3.6.3"
  }
 },
 "nbformat": 4,
 "nbformat_minor": 2
}
