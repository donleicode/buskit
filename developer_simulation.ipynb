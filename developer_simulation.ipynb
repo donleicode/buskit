{
 "cells": [
  {
   "cell_type": "markdown",
   "metadata": {},
   "source": [
    "# Simulator sketch up\n",
    "\n",
    "## Simulation type\n",
    "1. Link-based\n",
    "2. Vehicle based\n",
    "\n",
    "## Data source:\n",
    "1. Historical data as stream\n",
    "2. Live data as stream\n",
    "\n",
    "## Objective 1: Imitate real-time trajectories\n",
    "1. Set up route and stops (We dont care about the best practice right now)"
   ]
  },
  {
   "cell_type": "markdown",
   "metadata": {},
   "source": [
    "# 1. Setup"
   ]
  },
  {
   "cell_type": "code",
   "execution_count": 14,
   "metadata": {},
   "outputs": [
    {
     "name": "stdout",
     "output_type": "stream",
     "text": [
      "Populating the interactive namespace from numpy and matplotlib\n"
     ]
    },
    {
     "name": "stderr",
     "output_type": "stream",
     "text": [
      "/Users/Yuwen/anaconda/lib/python3.6/site-packages/IPython/core/magics/pylab.py:160: UserWarning: pylab import has clobbered these variables: ['beta']\n",
      "`%matplotlib` prevents importing * from pylab and numpy\n",
      "  \"\\n`%matplotlib` prevents importing * from pylab and numpy\"\n"
     ]
    }
   ],
   "source": [
    "import os\n",
    "import sys\n",
    "import csv\n",
    "\n",
    "import numpy as np\n",
    "import pandas as pd\n",
    "import matplotlib.pyplot as plt\n",
    "\n",
    "import scipy.stats as ss\n",
    "\n",
    "from IPython.display import display, clear_output\n",
    "\n",
    "import buskit as bk\n",
    "from buskit import busdata as bdata\n",
    "from buskit import dashboard as bdash\n",
    "from buskit import simulator as bsim\n",
    "\n",
    "%pylab inline"
   ]
  },
  {
   "cell_type": "markdown",
   "metadata": {},
   "source": [
    "## 1.1 Global Functions"
   ]
  },
  {
   "cell_type": "code",
   "execution_count": 31,
   "metadata": {},
   "outputs": [],
   "source": [
    "# file reader\n",
    "def csvRows(filename, dir_ref):\n",
    "    with open(filename, 'r') as fi:\n",
    "        reader = csv.DictReader(fi)\n",
    "        for row in reader:\n",
    "            if row['DirectionRef'] == str(dir_ref):\n",
    "                yield row"
   ]
  },
  {
   "cell_type": "markdown",
   "metadata": {},
   "source": [
    "## 1.2 Classes"
   ]
  },
  {
   "cell_type": "code",
   "execution_count": null,
   "metadata": {},
   "outputs": [],
   "source": []
  },
  {
   "cell_type": "code",
   "execution_count": null,
   "metadata": {},
   "outputs": [],
   "source": []
  },
  {
   "cell_type": "markdown",
   "metadata": {},
   "source": [
    "## 1.3 Global Parameters"
   ]
  },
  {
   "cell_type": "code",
   "execution_count": 22,
   "metadata": {},
   "outputs": [],
   "source": [
    "# determine data source\n",
    "beta = False\n",
    "time_coef = 100000 # simulation time is __ times faster than the reality\n",
    "avg_door_t = 5 # assume opening and closing the door take 5 seconds in total\n",
    "avg_board_t = 3 # assume each boarding takes 3 sec\n",
    "avg_alight_t = 2 # assume each alight takes 2 sec\n",
    "\n",
    "if beta:\n",
    "    # artificial data   ### make this part automatized with given number of stop\n",
    "    stop_ref = np.array([1, 2, 3, 4, 5, 6, 7])\n",
    "    stop_pos = np.array([0, 100, 200, 300, 400, 500, 600])\n",
    "    stop_name = np.array(['A', 'B', 'C', 'D', 'E', 'F', 'G'])\n",
    "else:\n",
    "    # historical data\n",
    "    stop_ref, stop_pos, stop_name = bsim.read_data(\"MTA_data/B15-180625-235941-44650-Mon.csv\", 1)\n",
    "\n",
    "# speed and travel time data are currently artificial\n",
    "link_vel = 1.5 * np.random.randn(len(stop_pos)) + 7 # make sure the unit is m/sec\n",
    "#dwell_t = 7 * np.random.randn(len(stop_pos)) + 20 # make sure the unit is sec\n",
    "\n",
    "# pax distribution\n",
    "stop_pos_next = np.append(stop_pos, stop_pos[-1])[1:]\n",
    "\n",
    "pos_mu = stop_pos.mean()\n",
    "pos_std = stop_pos.std()\n",
    "pax_norm = ss.norm(loc=pos_mu, scale=pos_std)\n",
    "pax_perc = np.array([pax_norm.cdf(stop_pos_next[i]) - pax_norm.cdf(stop_pos[i]) for i in range(len(stop_pos))]) ### a temporary measure ###\n",
    "\n",
    "pax_hr_route = 5000\n",
    "pax_hr_stop = pax_hr_route * pax_perc\n",
    "pax_at_stop = np.zeros(len(stop_pos))"
   ]
  },
  {
   "cell_type": "markdown",
   "metadata": {},
   "source": [
    "# 2. Simulation Environment\n",
    "## 2.1 Route Setup"
   ]
  },
  {
   "cell_type": "code",
   "execution_count": 23,
   "metadata": {},
   "outputs": [],
   "source": [
    "# Bus class\n",
    "class Bus(object):\n",
    "    \n",
    "    capacity = 60\n",
    "    seat = 40\n",
    "    \n",
    "    def __init__(self, ref, pos=0):\n",
    "        self.ref = ref # vehicle reference\n",
    "        self.pos = pos # vehicle location (1-D)\n",
    "        \n",
    "        ############### fix this: stop_pos, link, vel, next_stop should not require pre-specify, how? ##############\n",
    "        \n",
    "        self.link = np.sum(self.pos >= stop_pos) - 1 # link index starts from 0  ### unified with the formula in Stop Class\n",
    "        self.vel = link_vel[self.link] # speed at current link\n",
    "        self.next_stop = stop_pos[self.link + 1] # position of next stop\n",
    "        self.dwell_t = 0\n",
    "        self.pax = 0\n",
    "        self.clock = 0\n",
    "        self.operate = True\n",
    "        self.atstop = False\n",
    "        \n",
    "        self.log_pos = [self.pos]\n",
    "        self.log_vel = [self.vel]\n",
    "        self.log_pax = [0]\n",
    "        self.log_dwell = [0]\n",
    "\n",
    "    def terminal(self):\n",
    "        print(\"The bus has reached the terminal\")\n",
    "        self.operate = False\n",
    "        self.vel = 0\n",
    "        self.pax = 0\n",
    "        \n",
    "    def stop(self):\n",
    "        print(\"Bus %s is making a stop at %s (position %i)\"%(self.ref, stop_name[self.link + 1], self.next_stop))\n",
    "        self.atstop = True\n",
    "        self.pax_to_board = pax_at_stop[self.link + 1] # check how many pax at stop\n",
    "        self.board_t = self.pax * avg_board_t\n",
    "        self.alight_t = 0 * avg_alight_t  #### TO DEVELOP\n",
    "        self.dwell_t = avg_door_t + self.alight_t + self.board_t # supposed to dwell for this long\n",
    "        self.clock += 1\n",
    "\n",
    "#         self.vel = 0\n",
    "#         self.pos += self.vel\n",
    "        self.record()\n",
    "\n",
    "    def move(self):\n",
    "        pax_at_stop[self.link + 1] = 0 # clear all pax at stop\n",
    "        self.log_dwell.append(self.dwell_t)\n",
    "        # move on!\n",
    "        self.atstop = False\n",
    "        self.dwell_t = 0\n",
    "        self.clock = 0\n",
    "        self.link += 1\n",
    "        self.pax = 0 # update pax onboard ###################\n",
    "        self.record()\n",
    "        self.vel = link_vel[self.link] # new link speed\n",
    "        self.next_stop = stop_pos[self.link + 1] # new next stop\n",
    "\n",
    "    def record(self):\n",
    "        self.log_pos.append(self.pos)\n",
    "        self.log_pax.append(self.pax)\n",
    "        \n",
    "    def proceed(self):\n",
    "        if self.operate:\n",
    "            if self.pos + self.vel >= stop_pos[-1]:\n",
    "                self.terminal()\n",
    "            elif self.pos + self.vel >= self.next_stop:  ### this judgement restricts from recording vel as 0 at stop, change to sth else\n",
    "                self.stop()\n",
    "                if self.clock >= self.dwell_t:\n",
    "                    self.move()\n",
    "            else:\n",
    "                print(\"Current position of bus %s: %i\"%(self.ref, self.pos))\n",
    "                self.pos += self.vel\n",
    "                self.record()\n",
    "        else:\n",
    "            print(\"Bus %s is not operating.\"%(self.ref))"
   ]
  },
  {
   "cell_type": "code",
   "execution_count": 32,
   "metadata": {},
   "outputs": [],
   "source": [
    "data = csvRows('MTA_data/B15-180625-235941-44650-Mon.csv', 1)"
   ]
  },
  {
   "cell_type": "code",
   "execution_count": 33,
   "metadata": {},
   "outputs": [],
   "source": [
    "bus1 = next(data)"
   ]
  },
  {
   "cell_type": "code",
   "execution_count": 34,
   "metadata": {},
   "outputs": [
    {
     "data": {
      "text/plain": [
       "OrderedDict([('', '2'),\n",
       "             ('Bearing', '84.67599'),\n",
       "             ('BlockRef', 'MTA NYCT_EN_B8-Weekday-SDon_E_EN_75960_B25-228'),\n",
       "             ('CallDistanceAlongRoute', '16606.85'),\n",
       "             ('DataFrameRef', '2018-06-25'),\n",
       "             ('DatedVehicleJourneyRef',\n",
       "              'MTA NYCT_EN_B8-Weekday-SDon-138600_B25_228'),\n",
       "             ('DestinationName', 'BED-STUY WOODHULL HOSP'),\n",
       "             ('DestinationRef', 'MTA_901017'),\n",
       "             ('DirectionRef', '1'),\n",
       "             ('DistanceFromCall', '22.44'),\n",
       "             ('ExpectedArrivalTime', '2018-06-25T23:59:42.106-04:00'),\n",
       "             ('ExpectedDepartureTime', '2018-06-25T23:59:42.106-04:00'),\n",
       "             ('JourneyPatternRef', 'MTA_B150238'),\n",
       "             ('Latitude', '40.668624'),\n",
       "             ('LineRef', 'MTA NYCT_B15'),\n",
       "             ('Longitude', '-73.922606'),\n",
       "             ('Monitored', 'True'),\n",
       "             ('OperatorRef', 'MTA NYCT'),\n",
       "             ('OriginAimedDepartureTime', ''),\n",
       "             ('OriginRef', 'MTA_505238'),\n",
       "             ('PresentableDistance', 'at stop'),\n",
       "             ('ProgressRate', 'normalProgress'),\n",
       "             ('ProgressStatus', ''),\n",
       "             ('PublishedLineName', 'B15'),\n",
       "             ('RecordedAtTime', '2018-06-25T23:58:57.000-04:00'),\n",
       "             ('StopPointName', 'RALPH AV/EASTERN PY'),\n",
       "             ('StopPointRef', 'MTA_307990'),\n",
       "             ('StopsFromCall', '0'),\n",
       "             ('VehDistAlongRoute', '16584.41'),\n",
       "             ('VehicleRef', 'MTA NYCT_4847'),\n",
       "             ('VisitNumber', '1')])"
      ]
     },
     "execution_count": 34,
     "metadata": {},
     "output_type": "execute_result"
    }
   ],
   "source": [
    "bus1"
   ]
  },
  {
   "cell_type": "code",
   "execution_count": 35,
   "metadata": {},
   "outputs": [
    {
     "data": {
      "text/plain": [
       "'16584.41'"
      ]
     },
     "execution_count": 35,
     "metadata": {},
     "output_type": "execute_result"
    }
   ],
   "source": [
    "bus1['VehDistAlongRoute']"
   ]
  },
  {
   "cell_type": "code",
   "execution_count": 36,
   "metadata": {},
   "outputs": [],
   "source": [
    "# operate as set\n",
    "# live_bus = set()\n",
    "# live_bus.add(Bus(bus1['VehicleRef'], bus1['VehDistAlongRoute']))\n",
    "\n",
    "# operate as list\n",
    "live_bus = []\n",
    "live_bus.append(Bus(bus1['VehicleRef'], float(bus1['VehDistAlongRoute'])))"
   ]
  },
  {
   "cell_type": "code",
   "execution_count": 38,
   "metadata": {},
   "outputs": [
    {
     "data": {
      "text/plain": [
       "16584.41"
      ]
     },
     "execution_count": 38,
     "metadata": {},
     "output_type": "execute_result"
    }
   ],
   "source": [
    "live_bus[0].pos"
   ]
  },
  {
   "cell_type": "code",
   "execution_count": 63,
   "metadata": {},
   "outputs": [],
   "source": []
  },
  {
   "cell_type": "code",
   "execution_count": 66,
   "metadata": {},
   "outputs": [
    {
     "data": {
      "text/plain": [
       "{<__main__.Bus at 0x114d73b70>}"
      ]
     },
     "execution_count": 66,
     "metadata": {},
     "output_type": "execute_result"
    }
   ],
   "source": [
    "live_bus"
   ]
  },
  {
   "cell_type": "code",
   "execution_count": null,
   "metadata": {},
   "outputs": [],
   "source": []
  }
 ],
 "metadata": {
  "kernelspec": {
   "display_name": "Python 3",
   "language": "python",
   "name": "python3"
  },
  "language_info": {
   "codemirror_mode": {
    "name": "ipython",
    "version": 3
   },
   "file_extension": ".py",
   "mimetype": "text/x-python",
   "name": "python",
   "nbconvert_exporter": "python",
   "pygments_lexer": "ipython3",
   "version": "3.6.3"
  }
 },
 "nbformat": 4,
 "nbformat_minor": 2
}
