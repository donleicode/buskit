{
 "cells": [
  {
   "cell_type": "markdown",
   "metadata": {},
   "source": [
    "# Simulator sketch up\n",
    "\n",
    "## Simulation type\n",
    "1. Link-based\n",
    "2. Vehicle based\n",
    "\n",
    "## Data source:\n",
    "1. Historical data as stream\n",
    "2. Live data as stream\n",
    "\n",
    "## Step 1: Imitate real-time trajectories\n",
    "1. Set up route and stops (We dont care about the best practice right now)\n",
    "\n",
    "## Step 2: Define update functions for simulation\n",
    "1. update link travel speed\n",
    "2. update dwelling information"
   ]
  },
  {
   "cell_type": "markdown",
   "metadata": {},
   "source": [
    "# 1. Setup"
   ]
  },
  {
   "cell_type": "code",
   "execution_count": 1,
   "metadata": {},
   "outputs": [
    {
     "name": "stdout",
     "output_type": "stream",
     "text": [
      "Populating the interactive namespace from numpy and matplotlib\n"
     ]
    }
   ],
   "source": [
    "import os\n",
    "import sys\n",
    "import csv\n",
    "import time\n",
    "\n",
    "import numpy as np\n",
    "import pandas as pd\n",
    "import matplotlib.pyplot as plt\n",
    "\n",
    "import scipy.stats as ss\n",
    "\n",
    "import buskit as bk\n",
    "from buskit import busdata as bdata\n",
    "from buskit import dashboard as bdash\n",
    "from buskit import simulator as bsim\n",
    "\n",
    "from IPython.display import display, clear_output\n",
    "\n",
    "%pylab inline"
   ]
  },
  {
   "cell_type": "markdown",
   "metadata": {},
   "source": [
    "## 1.1 Global Functions"
   ]
  },
  {
   "cell_type": "code",
   "execution_count": null,
   "metadata": {},
   "outputs": [],
   "source": []
  },
  {
   "cell_type": "markdown",
   "metadata": {},
   "source": [
    "## 1.2 Global Parameters"
   ]
  },
  {
   "cell_type": "code",
   "execution_count": 4,
   "metadata": {},
   "outputs": [],
   "source": [
    "# specify path to archive AVL file\n",
    "archive_path = 'MTA_data/B15-180625-235941-44650-Mon.csv'\n",
    "data = bsim.load_archive(archive_path, 1)\n",
    "\n",
    "# determine data source\n",
    "beta = False\n",
    "\n",
    "time_coef = 100000 # simulation time is __ times faster than the reality\n",
    "avg_door_t = 5 # assume opening and closing the door take 5 seconds in total\n",
    "avg_board_t = 3 # assume each boarding takes 3 sec\n",
    "avg_alight_t = 2 # assume each alight takes 2 sec\n",
    "\n",
    "if beta:\n",
    "    # artificial data   ### make this part automatized with given number of stop\n",
    "    stop_ref = np.array([1, 2, 3, 4, 5, 6, 7])\n",
    "    stop_pos = np.array([0, 100, 200, 300, 400, 500, 600])\n",
    "    stop_name = np.array(['A', 'B', 'C', 'D', 'E', 'F', 'G'])\n",
    "else:\n",
    "    # historical data\n",
    "    stop_ref, stop_pos, stop_name = bsim.read_data(archive_path, 1)\n",
    "\n",
    "# speed and travel time data are currently artificial\n",
    "link_vel = 1.5 * np.random.randn(len(stop_pos)) + 7 # make sure the unit is m/sec\n",
    "#dwell_t = 7 * np.random.randn(len(stop_pos)) + 20 # make sure the unit is sec\n",
    "\n",
    "# pax distribution\n",
    "stop_pos_next = np.append(stop_pos, stop_pos[-1])[1:]\n",
    "\n",
    "pos_mu = stop_pos.mean()\n",
    "pos_std = stop_pos.std()\n",
    "pax_norm = ss.norm(loc=pos_mu, scale=pos_std)\n",
    "pax_perc = np.array([pax_norm.cdf(stop_pos_next[i]) - pax_norm.cdf(stop_pos[i]) for i in range(len(stop_pos))]) ### a temporary measure ###\n",
    "\n",
    "pax_hr_route = 5000\n",
    "pax_hr_stop = pax_hr_route * pax_perc\n",
    "pax_at_stop = np.zeros(len(stop_pos))"
   ]
  },
  {
   "cell_type": "markdown",
   "metadata": {},
   "source": [
    "## 1.3 Classes"
   ]
  },
  {
   "cell_type": "code",
   "execution_count": 5,
   "metadata": {},
   "outputs": [],
   "source": [
    "# Bus class\n",
    "class Bus(object):\n",
    "    \n",
    "    capacity = 60\n",
    "    seat = 40\n",
    "    \n",
    "    def __init__(self, ref, pos=0):\n",
    "        self.ref = ref # vehicle reference\n",
    "        self.pos = pos # vehicle location (1-D)\n",
    "        \n",
    "        ############### fix this: stop_pos, link, vel, next_stop should not require pre-specify, how? ##############\n",
    "        \n",
    "        self.link = np.sum(self.pos >= stop_pos) - 1 # link index starts from 0  ### unified with the formula in Stop Class\n",
    "        self.vel = link_vel[self.link] # speed at current link\n",
    "        self.next_stop = stop_pos[self.link + 1] # position of next stop\n",
    "        self.dwell_t = 0\n",
    "        self.pax = 0\n",
    "        self.clock = 0\n",
    "        self.operate = True\n",
    "        self.atstop = False\n",
    "        \n",
    "        self.log_pos = [self.pos]\n",
    "        self.log_vel = [self.vel]\n",
    "        self.log_pax = [0]\n",
    "        self.log_dwell = [0]\n",
    "\n",
    "    def terminal(self):\n",
    "        print(\"The bus has reached the terminal\")\n",
    "        self.operate = False\n",
    "        self.vel = 0\n",
    "        self.pax = 0\n",
    "        \n",
    "    def stop(self):\n",
    "        print(\"Bus %s is making a stop at %s (position %i)\"%(self.ref, stop_name[self.link + 1], self.next_stop))\n",
    "        self.atstop = True\n",
    "        self.pax_to_board = pax_at_stop[self.link + 1] # check how many pax at stop\n",
    "        self.board_t = self.pax * avg_board_t\n",
    "        self.alight_t = 0 * avg_alight_t  #### TO DEVELOP\n",
    "        self.dwell_t = avg_door_t + self.alight_t + self.board_t # supposed to dwell for this long\n",
    "        self.clock += 1\n",
    "\n",
    "#         self.vel = 0\n",
    "#         self.pos += self.vel\n",
    "        self.record()\n",
    "\n",
    "    def move(self):\n",
    "        pax_at_stop[self.link + 1] = 0 # clear all pax at stop\n",
    "        self.log_dwell.append(self.dwell_t)\n",
    "        # move on!\n",
    "        self.atstop = False\n",
    "        self.dwell_t = 0\n",
    "        self.clock = 0\n",
    "        self.link += 1\n",
    "        self.pax = 0 # update pax onboard ###################\n",
    "        self.record()\n",
    "        self.vel = link_vel[self.link] # new link speed\n",
    "        self.next_stop = stop_pos[self.link + 1] # new next stop\n",
    "\n",
    "    def record(self):\n",
    "        self.log_pos.append(self.pos)\n",
    "        self.log_pax.append(self.pax)\n",
    "        \n",
    "    def proceed(self):\n",
    "        if self.operate:\n",
    "            if self.pos + self.vel >= stop_pos[-1]:\n",
    "                self.terminal()\n",
    "            elif self.pos + self.vel >= self.next_stop:  ### this judgement restricts from recording vel as 0 at stop, change to sth else\n",
    "                self.stop()\n",
    "                if self.clock >= self.dwell_t:\n",
    "                    self.move()\n",
    "            else:\n",
    "                print(\"Current position of bus %s: %i\"%(self.ref, self.pos))\n",
    "                self.pos += self.vel\n",
    "                self.record()\n",
    "        else:\n",
    "            print(\"Bus %s is not operating.\"%(self.ref))"
   ]
  },
  {
   "cell_type": "markdown",
   "metadata": {},
   "source": [
    "# 2. Simulation Environment\n",
    "## 2.1 Route Setup"
   ]
  },
  {
   "cell_type": "code",
   "execution_count": null,
   "metadata": {},
   "outputs": [],
   "source": []
  },
  {
   "cell_type": "markdown",
   "metadata": {},
   "source": [
    "## 2.2 Stream Archive"
   ]
  },
  {
   "cell_type": "code",
   "execution_count": 6,
   "metadata": {},
   "outputs": [],
   "source": [
    "# create empty dicts and lists\n",
    "live_bus = {}\n",
    "dwell_time = {}\n",
    "travel_speed = {}"
   ]
  },
  {
   "cell_type": "code",
   "execution_count": 7,
   "metadata": {},
   "outputs": [],
   "source": [
    "# df = pd.read_csv(archive_path)\n",
    "# bdata.plot_tsd(df, 1, 0, 30)"
   ]
  },
  {
   "cell_type": "code",
   "execution_count": 8,
   "metadata": {},
   "outputs": [
    {
     "data": {
      "image/png": "[encoded data removed]",
      "text/plain": [
       "<Figure size 1440x360 with 1 Axes>"
      ]
     },
     "metadata": {},
     "output_type": "display_data"
    },
    {
     "name": "stdout",
     "output_type": "stream",
     "text": [
      "Time elapsed: 19.0 minutes\n"
     ]
    },
    {
     "ename": "KeyboardInterrupt",
     "evalue": "",
     "output_type": "error",
     "traceback": [
      "\u001b[0;31m---------------------------------------------------------------------------\u001b[0m",
      "\u001b[0;31mKeyboardInterrupt\u001b[0m                         Traceback (most recent call last)",
      "\u001b[0;32m<ipython-input-8-eccfedee5ce1>\u001b[0m in \u001b[0;36m<module>\u001b[0;34m()\u001b[0m\n\u001b[1;32m     19\u001b[0m \u001b[0;34m\u001b[0m\u001b[0m\n\u001b[1;32m     20\u001b[0m     \u001b[0mclock\u001b[0m \u001b[0;34m+=\u001b[0m \u001b[0;36m1\u001b[0m\u001b[0;34m\u001b[0m\u001b[0m\n\u001b[0;32m---> 21\u001b[0;31m     \u001b[0mtime\u001b[0m\u001b[0;34m.\u001b[0m\u001b[0msleep\u001b[0m\u001b[0;34m(\u001b[0m\u001b[0;36m1\u001b[0m\u001b[0;34m)\u001b[0m \u001b[0;31m# set a global time equivalent parameter\u001b[0m\u001b[0;34m\u001b[0m\u001b[0m\n\u001b[0m",
      "\u001b[0;31mKeyboardInterrupt\u001b[0m: "
     ]
    },
    {
     "data": {
      "image/png": "[encoded data removed]",
      "text/plain": [
       "<Figure size 1440x360 with 1 Axes>"
      ]
     },
     "metadata": {},
     "output_type": "display_data"
    }
   ],
   "source": [
    "data = bsim.load_archive(archive_path, 1)\n",
    "bus_pos = [bus.pos for bus in live_bus.values()]\n",
    "\n",
    "fig = plt.figure(figsize=(20,5))\n",
    "ax = fig.add_subplot(111)\n",
    "\n",
    "ax.plot(stop_pos, np.ones(len(stop_pos)), '.-')\n",
    "vehs, = ax.plot(bus_pos, np.ones(len(bus_pos)), '*', markersize=10)\n",
    "\n",
    "clock = 0\n",
    "while True:\n",
    "    bsim.stream_next(data, live_bus)\n",
    "    bus_pos = [bus.pos for bus in live_bus.values()]\n",
    "    vehs.set_data(bus_pos, np.ones(len(bus_pos)))\n",
    "\n",
    "    clear_output(wait=True)\n",
    "    display(fig)\n",
    "    print(\"Time elapsed: %s minutes\"%(clock * 0.5))\n",
    "\n",
    "    clock += 1\n",
    "    time.sleep(1) # set a global time equivalent parameter"
   ]
  },
  {
   "cell_type": "code",
   "execution_count": null,
   "metadata": {},
   "outputs": [],
   "source": [
    "\n",
    "batch = next(data)\n",
    "batch[0]"
   ]
  },
  {
   "cell_type": "code",
   "execution_count": null,
   "metadata": {},
   "outputs": [],
   "source": [
    "def update_bus(new, ref, pos):\n",
    "    \n",
    "#     # check previous status\n",
    "#     # previously at a stop\n",
    "# \tif live_bus[ref]['PresentableDistance'] == 'at_stop':\n",
    "#         # bus left stop: update dwelling info\n",
    "#         ########## CAVEAT: AT THE SAME STOP? ##########\n",
    "# \t\tif new['PresentableDistance'] != 'at_stop':\n",
    "# \t\t\tupdate_dwell()\n",
    "#         # bus still at stop: no action required\n",
    "# \t\telse:\n",
    "# \t\t\tpass\n",
    "            \n",
    "#     # previously traveling\n",
    "# \telse:\n",
    "#         # bus made a stop: prepare dwelling info\n",
    "# \t\tif new['PresentableDistance'] == 'at_stop':\n",
    "#             make_stop()\n",
    "#         # bus still traveling: upodate link speed\n",
    "# \t\telse:\n",
    "# \t\t\tupdate_speed()\n",
    "    \n",
    "    for bus in live_bus.values():\n",
    "        if bus.ref == ref:\n",
    "            bus.pos = pos\n",
    "\n",
    "# for bus in batch_stream:\n",
    "# \tif bus not in live_bus:\n",
    "#         live_bus.append(bus)\n",
    "# # \t\theap.append(live_bus, bus)\n",
    "# \telse:\n",
    "# \t\tupdate_bus(bus)\n",
    "# \t\tupdate_link(bus)\n",
    "\n",
    "\n",
    "# missing pings?\n",
    "\n",
    "# exclude terminal one or two stops\n",
    "\n",
    "\n",
    "def update_speed():\n",
    "\trolling_window\n",
    "# missing pings?"
   ]
  },
  {
   "cell_type": "code",
   "execution_count": null,
   "metadata": {},
   "outputs": [],
   "source": []
  }
 ],
 "metadata": {
  "kernelspec": {
   "display_name": "Python 3",
   "language": "python",
   "name": "python3"
  },
  "language_info": {
   "codemirror_mode": {
    "name": "ipython",
    "version": 3
   },
   "file_extension": ".py",
   "mimetype": "text/x-python",
   "name": "python",
   "nbconvert_exporter": "python",
   "pygments_lexer": "ipython3",
   "version": "3.6.3"
  }
 },
 "nbformat": 4,
 "nbformat_minor": 2
}
