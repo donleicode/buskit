{
 "cells": [
  {
   "cell_type": "markdown",
   "metadata": {},
   "source": [
    "# Simulation"
   ]
  },
  {
   "cell_type": "code",
   "execution_count": null,
   "metadata": {},
   "outputs": [],
   "source": [
    "import csv\n",
    "import time\n",
    "import dateutil\n",
    "\n",
    "import numpy as np\n",
    "import pandas as pd\n",
    "import matplotlib.pyplot as plt\n",
    "\n",
    "import scipy.stats as ss\n",
    "\n",
    "import buskit as bk\n",
    "from buskit import busdata as bdata\n",
    "from buskit import dashboard as bdash\n",
    "from buskit import simulator as bsim\n",
    "\n",
    "from IPython.display import display, clear_output\n",
    "\n",
    "%pylab inline"
   ]
  },
  {
   "cell_type": "markdown",
   "metadata": {},
   "source": [
    "## 1.1 Global Functions"
   ]
  },
  {
   "cell_type": "code",
   "execution_count": null,
   "metadata": {},
   "outputs": [],
   "source": []
  },
  {
   "cell_type": "markdown",
   "metadata": {},
   "source": [
    "## 1.2 Global Parameters"
   ]
  },
  {
   "cell_type": "code",
   "execution_count": null,
   "metadata": {},
   "outputs": [],
   "source": []
  },
  {
   "cell_type": "markdown",
   "metadata": {},
   "source": [
    "## 1.3 Classes"
   ]
  },
  {
   "cell_type": "code",
   "execution_count": null,
   "metadata": {},
   "outputs": [],
   "source": []
  },
  {
   "cell_type": "markdown",
   "metadata": {},
   "source": [
    "# global clock?"
   ]
  },
  {
   "cell_type": "code",
   "execution_count": null,
   "metadata": {},
   "outputs": [],
   "source": [
    "self.clock = 0\n",
    "# - pax at stop\n",
    "# - pax onboard\n",
    "# - pax arrival: demand profile, arrival function/behavior\n",
    "# - pax: poisson or exponential\n",
    "\n",
    "    def update(self):\n",
    "        self.clock += 1\n",
    "        self.pax += self.new_pax()\n",
    "        pax_at_stop[self.link] = self.pax # update global listing of pax at each stop\n",
    "        return self.pax\n",
    "\n",
    "    def proceed(self):\n",
    "        if pax_at_stop[self.link] < self.pax: # if pax are cleared by a bus\n",
    "            self.pax = pax_at_stop[self.link] # reverse update\n",
    "            self.clock = 0\n",
    "\n",
    "        self.update()"
   ]
  },
  {
   "cell_type": "code",
   "execution_count": null,
   "metadata": {},
   "outputs": [],
   "source": [
    "# determine data source\n",
    "beta = False\n",
    "\n",
    "time_coef = 100000 # simulation time is __ times faster than the reality\n",
    "avg_door_t = 5 # assume opening and closing the door take 5 seconds in total\n",
    "avg_board_t = 3 # assume each boarding takes 3 sec\n",
    "avg_alight_t = 2 # assume each alight takes 2 sec\n",
    "\n",
    "# speed and travel time data are currently artificial\n",
    "link_vel = 1.5 * np.random.randn(len(stop_pos)) + 7 # make sure the unit is m/sec\n",
    "#dwell_t = 7 * np.random.randn(len(stop_pos)) + 20 # make sure the unit is sec\n",
    "\n",
    "# pax distribution\n",
    "stop_pos_next = np.append(stop_pos, stop_pos[-1])[1:]\n",
    "\n",
    "pos_mu = stop_pos.mean()\n",
    "pos_std = stop_pos.std()\n",
    "pax_norm = ss.norm(loc=pos_mu, scale=pos_std)\n",
    "pax_perc = np.array([pax_norm.cdf(stop_pos_next[i]) - pax_norm.cdf(stop_pos[i]) for i in range(len(stop_pos))]) ### a temporary measure ###\n",
    "\n",
    "pax_hr_route = 5000\n",
    "pax_hr_stop = pax_hr_route * pax_perc\n",
    "pax_at_stop = np.zeros(len(stop_pos))"
   ]
  },
  {
   "cell_type": "code",
   "execution_count": null,
   "metadata": {},
   "outputs": [],
   "source": [
    "# - speed\n",
    "# - load\n",
    "# - headway\n",
    "# - dwelltime\n",
    "# - acceleration\n",
    "\n",
    "    capacity = 60\n",
    "    seat = 40\n",
    "    \n",
    "    def __init__(self, ref, pos=0):\n",
    "        self.ref = ref # vehicle reference\n",
    "        self.pos = pos # vehicle location (1-D)\n",
    "        \n",
    "        ############### fix this: stop_pos, link, vel, next_stop should not require pre-specify, how? ##############\n",
    "        \n",
    "        self.link = np.sum(self.pos >= stop_pos) - 1 # link index starts from 0  ### unified with the formula in Stop Class\n",
    "        self.vel = link_vel[self.link] # speed at current link\n",
    "        self.next_stop = stop_pos[self.link + 1] # position of next stop\n",
    "        self.dwell_t = 0\n",
    "        self.pax = 0\n",
    "        self.clock = 0\n",
    "        self.operate = True\n",
    "        self.atstop = False\n",
    "        \n",
    "        self.log_pos = [self.pos]\n",
    "        self.log_vel = [self.vel]\n",
    "        self.log_pax = [0]\n",
    "        self.log_dwell = [0]\n",
    "\n",
    "    def terminal(self):\n",
    "        print(\"The bus has reached the terminal\")\n",
    "        self.operate = False\n",
    "        self.vel = 0\n",
    "        self.pax = 0\n",
    "        \n",
    "    def stop(self):\n",
    "        print(\"Bus %s is making a stop at %s (position %i)\"%(self.ref, stop_name[self.link + 1], self.next_stop))\n",
    "        self.atstop = True\n",
    "        self.pax_to_board = pax_at_stop[self.link + 1] # check how many pax at stop\n",
    "        self.board_t = self.pax * avg_board_t\n",
    "        self.alight_t = 0 * avg_alight_t  #### TO DEVELOP\n",
    "        self.dwell_t = avg_door_t + self.alight_t + self.board_t # supposed to dwell for this long\n",
    "        self.clock += 1\n",
    "\n",
    "#         self.vel = 0\n",
    "#         self.pos += self.vel\n",
    "        self.record()\n",
    "\n",
    "    def move(self):\n",
    "        pax_at_stop[self.link + 1] = 0 # clear all pax at stop\n",
    "        self.log_dwell.append(self.dwell_t)\n",
    "        # move on!\n",
    "        self.atstop = False\n",
    "        self.dwell_t = 0\n",
    "        self.clock = 0\n",
    "        self.link += 1\n",
    "        self.pax = 0 # update pax onboard ###################\n",
    "        self.record()\n",
    "        self.vel = link_vel[self.link] # new link speed\n",
    "        self.next_stop = stop_pos[self.link + 1] # new next stop\n",
    "\n",
    "    def record(self):\n",
    "        self.log_pos.append(self.pos)\n",
    "        self.log_pax.append(self.pax)\n",
    "        \n",
    "    def proceed(self):\n",
    "        if self.operate:\n",
    "            if self.pos + self.vel >= stop_pos[-1]:\n",
    "                self.terminal()\n",
    "            elif self.pos + self.vel >= self.next_stop:  ### this judgement restricts from recording vel as 0 at stop, change to sth else\n",
    "                self.stop()\n",
    "                if self.clock >= self.dwell_t:\n",
    "                    self.move()\n",
    "            else:\n",
    "                print(\"Current position of bus %s: %i\"%(self.ref, self.pos))\n",
    "                self.pos += self.vel\n",
    "                self.record()\n",
    "        else:\n",
    "            print(\"Bus %s is not operating.\"%(self.ref))"
   ]
  }
 ],
 "metadata": {
  "kernelspec": {
   "display_name": "Python 3",
   "language": "python",
   "name": "python3"
  },
  "language_info": {
   "codemirror_mode": {
    "name": "ipython",
    "version": 3
   },
   "file_extension": ".py",
   "mimetype": "text/x-python",
   "name": "python",
   "nbconvert_exporter": "python",
   "pygments_lexer": "ipython3",
   "version": "3.6.3"
  }
 },
 "nbformat": 4,
 "nbformat_minor": 2
}
