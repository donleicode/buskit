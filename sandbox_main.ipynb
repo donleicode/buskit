{
 "cells": [
  {
   "cell_type": "markdown",
   "metadata": {},
   "source": [
    "# Bus Simulator Sandbox (under development)\n",
    "## Yuwen Chang"
   ]
  },
  {
   "cell_type": "code",
   "execution_count": 1,
   "metadata": {},
   "outputs": [
    {
     "name": "stdout",
     "output_type": "stream",
     "text": [
      "Populating the interactive namespace from numpy and matplotlib\n"
     ]
    },
    {
     "name": "stderr",
     "output_type": "stream",
     "text": [
      "/Users/Yuwen/anaconda/lib/python3.6/site-packages/IPython/core/magics/pylab.py:160: UserWarning: pylab import has clobbered these variables: ['datetime']\n",
      "`%matplotlib` prevents importing * from pylab and numpy\n",
      "  \"\\n`%matplotlib` prevents importing * from pylab and numpy\"\n"
     ]
    }
   ],
   "source": [
    "# import packages\n",
    "from __future__ import print_function, division\n",
    "\n",
    "import os\n",
    "import sys\n",
    "import json\n",
    "\n",
    "import numpy as np\n",
    "import pandas as pd\n",
    "import matplotlib.pyplot as plt\n",
    "\n",
    "import time\n",
    "import calendar\n",
    "from datetime import datetime\n",
    "\n",
    "try:\n",
    "    import urllib2 as urllib\n",
    "except ImportError:\n",
    "    import urllib.request as urllib\n",
    "\n",
    "%pylab inline"
   ]
  },
  {
   "cell_type": "markdown",
   "metadata": {},
   "source": [
    "# I. Data Generation Pipeline\n",
    "## 1. Vehicle Data\n",
    "## 1a. Real-time Data Query"
   ]
  },
  {
   "cell_type": "code",
   "execution_count": null,
   "metadata": {},
   "outputs": [],
   "source": [
    "# !python fetchbus.py $MTAAPIKEY \"M1\" 240"
   ]
  },
  {
   "cell_type": "markdown",
   "metadata": {},
   "source": [
    "## 1b. Historical Sample Data"
   ]
  },
  {
   "cell_type": "code",
   "execution_count": null,
   "metadata": {},
   "outputs": [],
   "source": [
    "df = pd.read_csv(\"MTA_data/M1-Tue-180410-154415-260.csv\")\n",
    "df.head()"
   ]
  },
  {
   "cell_type": "markdown",
   "metadata": {},
   "source": [
    "## 2. Route Data\n",
    "- METHOD 1: Subset and sort built-in data using CallDistanceAlongRoute in df\n",
    "- METHOD 2: Use up-to-date shapefile, read as gpd and query\n",
    "- METHOD 3: Query latest GTFS data through online database"
   ]
  },
  {
   "cell_type": "markdown",
   "metadata": {},
   "source": [
    "## 3. Visualization\n",
    "## 3a. Plain Line\n",
    "### Issue: dynamic update controller"
   ]
  },
  {
   "cell_type": "code",
   "execution_count": 26,
   "metadata": {},
   "outputs": [],
   "source": [
    "# import osmnx as ox\n",
    "# import networkx as nx\n",
    "# import geopandas as gpd\n",
    "# from collections import Counter\n",
    "\n",
    "# from geopy import Nominatim\n",
    "from geopy.distance import vincenty\n",
    "# from shapely.geometry import Point"
   ]
  },
  {
   "cell_type": "markdown",
   "metadata": {},
   "source": [
    "### Issue: precision\n",
    "1. Use distance along the route (geopy, Google API, or Carto API)\n",
    "2. Preferably, find SIRI data that contains variable \"CallDistanceAlongRoute\"\n",
    "3. Check visualization directions"
   ]
  },
  {
   "cell_type": "code",
   "execution_count": 46,
   "metadata": {
    "scrolled": true
   },
   "outputs": [
    {
     "data": {
      "text/plain": [
       "[164.10592592573394,\n",
       " 524.6821220855292,\n",
       " 183.2864635647531,\n",
       " 166.04481363027242,\n",
       " 168.16662072005468,\n",
       " 249.32389728515443,\n",
       " 280.8678932398275,\n",
       " 65.1613773786362,\n",
       " 162.277246106055,\n",
       " 160.8227222138864,\n",
       " 156.99423276306914,\n",
       " 177.8182272706027,\n",
       " 262.3958689692586,\n",
       " 186.7201549309188,\n",
       " 134.44950499065496,\n",
       " 113.44836241741916,\n",
       " 271.7303956584878,\n",
       " 243.00538513176005,\n",
       " 292.5054493596941,\n",
       " 190.84614888127206,\n",
       " 295.74318979161654,\n",
       " 180.16350288585392,\n",
       " 297.9947729558094,\n",
       " 205.45446314960742,\n",
       " 168.5189134674809,\n",
       " 151.1404164049675,\n",
       " 170.5531370778554,\n",
       " 218.34221496184352,\n",
       " 226.21779839123397,\n",
       " 226.0960471262775,\n",
       " 374.39793393469455,\n",
       " 130.71672370770722]"
      ]
     },
     "execution_count": 46,
     "metadata": {},
     "output_type": "execute_result"
    }
   ],
   "source": [
    "# calculate stop distances\n",
    "dist = []\n",
    "lats = list(B54_merge['stop_lat'])\n",
    "lons = list(B54_merge['stop_lon'])\n",
    "for i in arange(len(B54_stops)):\n",
    "    if i < len(B54_stops) - 1:\n",
    "        p1 = lats[i], lons[i]\n",
    "        p2 = lats[i+1], lons[i+1]\n",
    "        di = vincenty(p1, p2).meters\n",
    "        dist.append(di)\n",
    "dist"
   ]
  },
  {
   "cell_type": "code",
   "execution_count": 51,
   "metadata": {},
   "outputs": [
    {
     "data": {
      "text/plain": [
       "array([   0.        ,  164.10592593,  688.78804801,  872.07451158,\n",
       "       1038.11932521, 1206.28594593, 1455.60984321, 1736.47773645,\n",
       "       1801.63911383, 1963.91635994, 2124.73908215, 2281.73331491,\n",
       "       2459.55154218, 2721.94741115, 2908.66756608, 3043.11707107,\n",
       "       3156.56543349, 3428.29582915, 3671.30121428, 3963.80666364,\n",
       "       4154.65281252, 4450.39600231, 4630.5595052 , 4928.55427816,\n",
       "       5134.00874131, 5302.52765477, 5453.66807118, 5624.22120826,\n",
       "       5842.56342322, 6068.78122161, 6294.87726874, 6669.27520267])"
      ]
     },
     "execution_count": 51,
     "metadata": {},
     "output_type": "execute_result"
    }
   ],
   "source": [
    "# calculate stop distances along the route (cumulative distance)\n",
    "di = 0\n",
    "cum_dist = [0]\n",
    "for d in dist[:-1]:\n",
    "    di += d\n",
    "    cum_dist.append(di)\n",
    "cum_dist = np.array(cum_dist)\n",
    "cum_dist"
   ]
  },
  {
   "cell_type": "code",
   "execution_count": 57,
   "metadata": {},
   "outputs": [
    {
     "data": {
      "text/plain": [
       "1     269.72\n",
       "2     269.72\n",
       "3     269.72\n",
       "4     269.72\n",
       "5     269.72\n",
       "6     269.72\n",
       "7     269.72\n",
       "8     269.72\n",
       "9     269.72\n",
       "10    269.72\n",
       "Name: VehDistAlongRoute, dtype: float64"
      ]
     },
     "execution_count": 57,
     "metadata": {},
     "output_type": "execute_result"
    }
   ],
   "source": [
    "df['VehDistAlongRoute']"
   ]
  },
  {
   "cell_type": "code",
   "execution_count": 63,
   "metadata": {},
   "outputs": [
    {
     "data": {
      "image/png": "[encoded data removed]",
      "text/plain": [
       "<matplotlib.figure.Figure at 0x10d9e7400>"
      ]
     },
     "metadata": {},
     "output_type": "display_data"
    }
   ],
   "source": [
    "fig = plt.figure(figsize=(12,6))\n",
    "ax = fig.add_subplot(111)\n",
    "ax.plot(cum_dist, [0]*len(cum_dist), '.-')\n",
    "ax.plot(df['VehDistAlongRoute'], [0]*len(df), 'ro')\n",
    "plt.show()"
   ]
  },
  {
   "cell_type": "markdown",
   "metadata": {},
   "source": [
    "## 3b. Plain Topology"
   ]
  },
  {
   "cell_type": "code",
   "execution_count": 64,
   "metadata": {},
   "outputs": [
    {
     "data": {
      "text/plain": [
       "<matplotlib.axes._subplots.AxesSubplot at 0x10cfa9048>"
      ]
     },
     "execution_count": 64,
     "metadata": {},
     "output_type": "execute_result"
    },
    {
     "data": {
      "image/png": "[encoded data removed]",
      "text/plain": [
       "<matplotlib.figure.Figure at 0x10d9e7240>"
      ]
     },
     "metadata": {},
     "output_type": "display_data"
    }
   ],
   "source": [
    "# plot route\n",
    "ax = temp_shp.plot('shape_pt_lon', 'shape_pt_lat')\n",
    "\n",
    "# plot stops\n",
    "B54_stops.plot.scatter('stop_lon', 'stop_lat', ax=ax)\n",
    "\n",
    "# plot active buses\n",
    "df.plot.scatter('Longitude', 'Latitude', color='red', ax=ax)"
   ]
  },
  {
   "cell_type": "markdown",
   "metadata": {},
   "source": [
    "## 3c. Map Topology"
   ]
  },
  {
   "cell_type": "code",
   "execution_count": null,
   "metadata": {
    "scrolled": true
   },
   "outputs": [],
   "source": [
    "import gmap"
   ]
  },
  {
   "cell_type": "markdown",
   "metadata": {},
   "source": [
    "## 3d. Time-space Diagram\n",
    "Also include a log file!"
   ]
  },
  {
   "cell_type": "code",
   "execution_count": null,
   "metadata": {},
   "outputs": [],
   "source": []
  },
  {
   "cell_type": "markdown",
   "metadata": {},
   "source": [
    "## 4. Simulation\n",
    "## 4a. Objects Creation"
   ]
  },
  {
   "cell_type": "code",
   "execution_count": null,
   "metadata": {},
   "outputs": [],
   "source": []
  },
  {
   "cell_type": "markdown",
   "metadata": {},
   "source": [
    "## 4b. Attribute Assignment"
   ]
  },
  {
   "cell_type": "code",
   "execution_count": null,
   "metadata": {},
   "outputs": [],
   "source": []
  },
  {
   "cell_type": "markdown",
   "metadata": {},
   "source": [
    "## 4c. Environment Variables"
   ]
  },
  {
   "cell_type": "code",
   "execution_count": null,
   "metadata": {},
   "outputs": [],
   "source": []
  },
  {
   "cell_type": "markdown",
   "metadata": {},
   "source": [
    "## 4d. User Interface"
   ]
  },
  {
   "cell_type": "code",
   "execution_count": null,
   "metadata": {},
   "outputs": [],
   "source": []
  },
  {
   "cell_type": "markdown",
   "metadata": {},
   "source": [
    "## 4e. Dynamic Display\n",
    "1. 0.5-sec update\n",
    "2. time-space diagram\n",
    "3. trace log"
   ]
  },
  {
   "cell_type": "code",
   "execution_count": null,
   "metadata": {},
   "outputs": [],
   "source": []
  },
  {
   "cell_type": "markdown",
   "metadata": {},
   "source": [
    "## 4f. Web Deployment\n",
    "1. Control panel\n",
    "2. Real-time info on Google basemap\n",
    "3. Real-time info on straightened route topology\n",
    "    - 3a. BB indicator\n",
    "4. Dynamic time-space diagram"
   ]
  },
  {
   "cell_type": "code",
   "execution_count": null,
   "metadata": {},
   "outputs": [],
   "source": []
  },
  {
   "cell_type": "markdown",
   "metadata": {},
   "source": [
    "# End"
   ]
  },
  {
   "cell_type": "markdown",
   "metadata": {},
   "source": [
    "- 3/11 4\n",
    "- 3/12 1.5\n",
    "- 3/16 1\n",
    "- 3/17 2\n",
    "- 3/18 2\n",
    "- 3/20 1.5\n",
    "- 3/23 2\n",
    "- 4/3 3\n",
    "- 4/5 0.5\n",
    "- 4/6 1.5\n",
    "- 4/9 1.5"
   ]
  },
  {
   "cell_type": "code",
   "execution_count": null,
   "metadata": {
    "collapsed": true
   },
   "outputs": [],
   "source": []
  }
 ],
 "metadata": {
  "kernelspec": {
   "display_name": "Python 3",
   "language": "python",
   "name": "python3"
  },
  "language_info": {
   "codemirror_mode": {
    "name": "ipython",
    "version": 3
   },
   "file_extension": ".py",
   "mimetype": "text/x-python",
   "name": "python",
   "nbconvert_exporter": "python",
   "pygments_lexer": "ipython3",
   "version": "3.6.3"
  }
 },
 "nbformat": 4,
 "nbformat_minor": 2
}
