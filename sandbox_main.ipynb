{
 "cells": [
  {
   "cell_type": "markdown",
   "metadata": {},
   "source": [
    "# Bus Simulator Sandbox\n",
    "## Yuwen Chang"
   ]
  },
  {
   "cell_type": "code",
   "execution_count": 3,
   "metadata": {},
   "outputs": [
    {
     "name": "stdout",
     "output_type": "stream",
     "text": [
      "Populating the interactive namespace from numpy and matplotlib\n"
     ]
    },
    {
     "name": "stderr",
     "output_type": "stream",
     "text": [
      "/Users/Yuwen/anaconda/lib/python3.6/site-packages/IPython/core/magics/pylab.py:160: UserWarning: pylab import has clobbered these variables: ['datetime']\n",
      "`%matplotlib` prevents importing * from pylab and numpy\n",
      "  \"\\n`%matplotlib` prevents importing * from pylab and numpy\"\n"
     ]
    }
   ],
   "source": [
    "# import packages\n",
    "from __future__ import print_function, division\n",
    "from IPython.display import display, clear_output\n",
    "\n",
    "import os\n",
    "import sys\n",
    "import json\n",
    "\n",
    "import numpy as np\n",
    "import pandas as pd\n",
    "import matplotlib.pyplot as plt\n",
    "\n",
    "import time\n",
    "import calendar\n",
    "from datetime import datetime\n",
    "\n",
    "import collections\n",
    "from collections import defaultdict\n",
    "\n",
    "try:\n",
    "    import urllib2 as urllib\n",
    "except ImportError:\n",
    "    import urllib.request as urllib\n",
    "\n",
    "%pylab inline"
   ]
  },
  {
   "cell_type": "markdown",
   "metadata": {},
   "source": [
    "# I. Data Generation Pipeline\n",
    "## 1. Vehicle Data\n",
    "## 1a. Real-time Data Query"
   ]
  },
  {
   "cell_type": "code",
   "execution_count": 4,
   "metadata": {},
   "outputs": [],
   "source": [
    "from fetchbus import bus_data, plot_tsd"
   ]
  },
  {
   "cell_type": "code",
   "execution_count": 2,
   "metadata": {},
   "outputs": [
    {
     "ename": "NameError",
     "evalue": "name 'os' is not defined",
     "output_type": "error",
     "traceback": [
      "\u001b[0;31m---------------------------------------------------------------------------\u001b[0m",
      "\u001b[0;31mNameError\u001b[0m                                 Traceback (most recent call last)",
      "\u001b[0;32m<ipython-input-2-05f49bb6043b>\u001b[0m in \u001b[0;36m<module>\u001b[0;34m()\u001b[0m\n\u001b[1;32m      1\u001b[0m \u001b[0;31m# !python fetchbus.py $MTAAPIKEY \"M1\" 240\u001b[0m\u001b[0;34m\u001b[0m\u001b[0;34m\u001b[0m\u001b[0m\n\u001b[0;32m----> 2\u001b[0;31m \u001b[0mdf\u001b[0m \u001b[0;34m=\u001b[0m \u001b[0mbus_data\u001b[0m\u001b[0;34m(\u001b[0m\u001b[0mos\u001b[0m\u001b[0;34m.\u001b[0m\u001b[0mgetenv\u001b[0m\u001b[0;34m(\u001b[0m\u001b[0;34m\"MTAAPIKEY\"\u001b[0m\u001b[0;34m)\u001b[0m\u001b[0;34m,\u001b[0m \u001b[0;34m\"M1\"\u001b[0m\u001b[0;34m,\u001b[0m \u001b[0;36m1\u001b[0m\u001b[0;34m)\u001b[0m\u001b[0;34m\u001b[0m\u001b[0m\n\u001b[0m",
      "\u001b[0;31mNameError\u001b[0m: name 'os' is not defined"
     ]
    }
   ],
   "source": [
    "# !python fetchbus.py $MTAAPIKEY \"M1\" 240\n",
    "df = bus_data(os.getenv(\"MTAAPIKEY\"), \"M1\", 1)"
   ]
  },
  {
   "cell_type": "markdown",
   "metadata": {},
   "source": [
    "## 1b. Historical Sample Data"
   ]
  },
  {
   "cell_type": "code",
   "execution_count": 5,
   "metadata": {},
   "outputs": [
    {
     "data": {
      "text/html": [
       "<div>\n",
       "<style scoped>\n",
       "    .dataframe tbody tr th:only-of-type {\n",
       "        vertical-align: middle;\n",
       "    }\n",
       "\n",
       "    .dataframe tbody tr th {\n",
       "        vertical-align: top;\n",
       "    }\n",
       "\n",
       "    .dataframe thead th {\n",
       "        text-align: right;\n",
       "    }\n",
       "</style>\n",
       "<table border=\"1\" class=\"dataframe\">\n",
       "  <thead>\n",
       "    <tr style=\"text-align: right;\">\n",
       "      <th></th>\n",
       "      <th>Unnamed: 0</th>\n",
       "      <th>Bearing</th>\n",
       "      <th>BlockRef</th>\n",
       "      <th>CallDistanceAlongRoute</th>\n",
       "      <th>DataFrameRef</th>\n",
       "      <th>DatedVehicleJourneyRef</th>\n",
       "      <th>DestinationName</th>\n",
       "      <th>DestinationRef</th>\n",
       "      <th>DirectionRef</th>\n",
       "      <th>DistanceFromCall</th>\n",
       "      <th>...</th>\n",
       "      <th>ProgressStatus</th>\n",
       "      <th>PublishedLineName</th>\n",
       "      <th>RecordedAtTime</th>\n",
       "      <th>StopPointName</th>\n",
       "      <th>StopPointRef</th>\n",
       "      <th>StopsFromCall</th>\n",
       "      <th>VehicleRef</th>\n",
       "      <th>VisitNumber</th>\n",
       "      <th>VehDistAlongRoute</th>\n",
       "      <th>ts</th>\n",
       "    </tr>\n",
       "  </thead>\n",
       "  <tbody>\n",
       "    <tr>\n",
       "      <th>1</th>\n",
       "      <td>1</td>\n",
       "      <td>233.31764</td>\n",
       "      <td>MTA NYCT_OF_B8-Weekday-SDon_E_OF_52620_M7-205</td>\n",
       "      <td>7653.54</td>\n",
       "      <td>2018-04-10</td>\n",
       "      <td>MTA NYCT_OF_B8-Weekday-SDon-088000_M7_205</td>\n",
       "      <td>E VILLAGE 8 ST via 5 AV</td>\n",
       "      <td>MTA_403793</td>\n",
       "      <td>1</td>\n",
       "      <td>0.00</td>\n",
       "      <td>...</td>\n",
       "      <td>NaN</td>\n",
       "      <td>M1</td>\n",
       "      <td>2018-04-10 19:44:02</td>\n",
       "      <td>5 AV/W  59 ST</td>\n",
       "      <td>MTA_400512</td>\n",
       "      <td>0</td>\n",
       "      <td>MTA NYCT_6764</td>\n",
       "      <td>1</td>\n",
       "      <td>7653.54</td>\n",
       "      <td>0</td>\n",
       "    </tr>\n",
       "    <tr>\n",
       "      <th>2</th>\n",
       "      <td>2</td>\n",
       "      <td>49.23225</td>\n",
       "      <td>MTA NYCT_OF_B8-Weekday-SDon_E_OF_50340_M1-139</td>\n",
       "      <td>13730.36</td>\n",
       "      <td>2018-04-10</td>\n",
       "      <td>MTA NYCT_OF_B8-Weekday-SDon-084200_M1_139</td>\n",
       "      <td>GRAND STREET via 5 AV/BROADWAY</td>\n",
       "      <td>MTA_803192</td>\n",
       "      <td>1</td>\n",
       "      <td>6.76</td>\n",
       "      <td>...</td>\n",
       "      <td>layover</td>\n",
       "      <td>M1</td>\n",
       "      <td>2018-04-10 19:44:10</td>\n",
       "      <td>CENTRE ST/BROOME ST</td>\n",
       "      <td>MTA_803192</td>\n",
       "      <td>0</td>\n",
       "      <td>MTA NYCT_6748</td>\n",
       "      <td>1</td>\n",
       "      <td>13723.60</td>\n",
       "      <td>0</td>\n",
       "    </tr>\n",
       "    <tr>\n",
       "      <th>3</th>\n",
       "      <td>3</td>\n",
       "      <td>233.78738</td>\n",
       "      <td>MTA NYCT_OF_B8-Weekday-SDon_E_OF_55860_M1-149</td>\n",
       "      <td>1270.21</td>\n",
       "      <td>2018-04-10</td>\n",
       "      <td>MTA NYCT_OF_B8-Weekday-SDon-093400_M1_149</td>\n",
       "      <td>GRAND STREET via 5 AV/BROADWAY</td>\n",
       "      <td>MTA_803192</td>\n",
       "      <td>1</td>\n",
       "      <td>9.06</td>\n",
       "      <td>...</td>\n",
       "      <td>NaN</td>\n",
       "      <td>M1</td>\n",
       "      <td>2018-04-10 19:43:47</td>\n",
       "      <td>5 AV/W 135 ST</td>\n",
       "      <td>MTA_400094</td>\n",
       "      <td>0</td>\n",
       "      <td>MTA NYCT_6759</td>\n",
       "      <td>1</td>\n",
       "      <td>1261.15</td>\n",
       "      <td>0</td>\n",
       "    </tr>\n",
       "    <tr>\n",
       "      <th>4</th>\n",
       "      <td>4</td>\n",
       "      <td>234.06093</td>\n",
       "      <td>MTA NYCT_OF_B8-Weekday-SDon_E_OF_51900_M1-141</td>\n",
       "      <td>9963.37</td>\n",
       "      <td>2018-04-10</td>\n",
       "      <td>MTA NYCT_OF_B8-Weekday-SDon-086800_M1_141</td>\n",
       "      <td>GRAND STREET via 5 AV/BROADWAY</td>\n",
       "      <td>MTA_803192</td>\n",
       "      <td>1</td>\n",
       "      <td>14.94</td>\n",
       "      <td>...</td>\n",
       "      <td>NaN</td>\n",
       "      <td>M1</td>\n",
       "      <td>2018-04-10 19:43:45</td>\n",
       "      <td>5 AV/W 31 ST</td>\n",
       "      <td>MTA_400325</td>\n",
       "      <td>0</td>\n",
       "      <td>MTA NYCT_6773</td>\n",
       "      <td>1</td>\n",
       "      <td>9948.43</td>\n",
       "      <td>0</td>\n",
       "    </tr>\n",
       "    <tr>\n",
       "      <th>6</th>\n",
       "      <td>6</td>\n",
       "      <td>233.75938</td>\n",
       "      <td>MTA NYCT_OF_B8-Weekday-SDon_E_OF_29580_M1-123</td>\n",
       "      <td>4506.30</td>\n",
       "      <td>2018-04-10</td>\n",
       "      <td>MTA NYCT_OF_B8-Weekday-SDon-091900_M1_147</td>\n",
       "      <td>GRAND STREET via 5 AV/BROADWAY</td>\n",
       "      <td>MTA_803192</td>\n",
       "      <td>1</td>\n",
       "      <td>21.44</td>\n",
       "      <td>...</td>\n",
       "      <td>NaN</td>\n",
       "      <td>M1</td>\n",
       "      <td>2018-04-10 19:43:55</td>\n",
       "      <td>5 AV/EAST 98 ST</td>\n",
       "      <td>MTA_404081</td>\n",
       "      <td>0</td>\n",
       "      <td>MTA NYCT_6778</td>\n",
       "      <td>1</td>\n",
       "      <td>4484.86</td>\n",
       "      <td>0</td>\n",
       "    </tr>\n",
       "  </tbody>\n",
       "</table>\n",
       "<p>5 rows × 32 columns</p>\n",
       "</div>"
      ],
      "text/plain": [
       "   Unnamed: 0    Bearing                                       BlockRef  \\\n",
       "1           1  233.31764  MTA NYCT_OF_B8-Weekday-SDon_E_OF_52620_M7-205   \n",
       "2           2   49.23225  MTA NYCT_OF_B8-Weekday-SDon_E_OF_50340_M1-139   \n",
       "3           3  233.78738  MTA NYCT_OF_B8-Weekday-SDon_E_OF_55860_M1-149   \n",
       "4           4  234.06093  MTA NYCT_OF_B8-Weekday-SDon_E_OF_51900_M1-141   \n",
       "6           6  233.75938  MTA NYCT_OF_B8-Weekday-SDon_E_OF_29580_M1-123   \n",
       "\n",
       "   CallDistanceAlongRoute DataFrameRef  \\\n",
       "1                 7653.54   2018-04-10   \n",
       "2                13730.36   2018-04-10   \n",
       "3                 1270.21   2018-04-10   \n",
       "4                 9963.37   2018-04-10   \n",
       "6                 4506.30   2018-04-10   \n",
       "\n",
       "                      DatedVehicleJourneyRef                 DestinationName  \\\n",
       "1  MTA NYCT_OF_B8-Weekday-SDon-088000_M7_205         E VILLAGE 8 ST via 5 AV   \n",
       "2  MTA NYCT_OF_B8-Weekday-SDon-084200_M1_139  GRAND STREET via 5 AV/BROADWAY   \n",
       "3  MTA NYCT_OF_B8-Weekday-SDon-093400_M1_149  GRAND STREET via 5 AV/BROADWAY   \n",
       "4  MTA NYCT_OF_B8-Weekday-SDon-086800_M1_141  GRAND STREET via 5 AV/BROADWAY   \n",
       "6  MTA NYCT_OF_B8-Weekday-SDon-091900_M1_147  GRAND STREET via 5 AV/BROADWAY   \n",
       "\n",
       "  DestinationRef  DirectionRef  DistanceFromCall ... ProgressStatus  \\\n",
       "1     MTA_403793             1              0.00 ...            NaN   \n",
       "2     MTA_803192             1              6.76 ...        layover   \n",
       "3     MTA_803192             1              9.06 ...            NaN   \n",
       "4     MTA_803192             1             14.94 ...            NaN   \n",
       "6     MTA_803192             1             21.44 ...            NaN   \n",
       "\n",
       "  PublishedLineName      RecordedAtTime        StopPointName StopPointRef  \\\n",
       "1                M1 2018-04-10 19:44:02        5 AV/W  59 ST   MTA_400512   \n",
       "2                M1 2018-04-10 19:44:10  CENTRE ST/BROOME ST   MTA_803192   \n",
       "3                M1 2018-04-10 19:43:47        5 AV/W 135 ST   MTA_400094   \n",
       "4                M1 2018-04-10 19:43:45         5 AV/W 31 ST   MTA_400325   \n",
       "6                M1 2018-04-10 19:43:55      5 AV/EAST 98 ST   MTA_404081   \n",
       "\n",
       "   StopsFromCall     VehicleRef VisitNumber VehDistAlongRoute ts  \n",
       "1              0  MTA NYCT_6764           1           7653.54  0  \n",
       "2              0  MTA NYCT_6748           1          13723.60  0  \n",
       "3              0  MTA NYCT_6759           1           1261.15  0  \n",
       "4              0  MTA NYCT_6773           1           9948.43  0  \n",
       "6              0  MTA NYCT_6778           1           4484.86  0  \n",
       "\n",
       "[5 rows x 32 columns]"
      ]
     },
     "execution_count": 5,
     "metadata": {},
     "output_type": "execute_result"
    }
   ],
   "source": [
    "df = pd.read_csv(\"MTA_data/M1-Tue-180410-154415-260.csv\")\n",
    "df = df[df['DirectionRef'] == 1]\n",
    "df['VehDistAlongRoute'] = df['CallDistanceAlongRoute'] - df['DistanceFromCall']\n",
    "df['RecordedAtTime'] = pd.to_datetime(df['RecordedAtTime'])\n",
    "\n",
    "mod = list(df['Unnamed: 0'])\n",
    "tiempo = 0\n",
    "ts = []\n",
    "for i,v in enumerate(mod[:-1]):\n",
    "    ts.append(tiempo)\n",
    "    if mod[i+1] < mod[i]:\n",
    "        tiempo += 30\n",
    "    else:\n",
    "        continue\n",
    "ts.append(ts[-1])\n",
    "df['ts'] = ts\n",
    "\n",
    "df.head()"
   ]
  },
  {
   "cell_type": "code",
   "execution_count": 6,
   "metadata": {},
   "outputs": [
    {
     "data": {
      "text/plain": [
       "Index(['Unnamed: 0', 'Bearing', 'BlockRef', 'CallDistanceAlongRoute',\n",
       "       'DataFrameRef', 'DatedVehicleJourneyRef', 'DestinationName',\n",
       "       'DestinationRef', 'DirectionRef', 'DistanceFromCall',\n",
       "       'ExpectedArrivalTime', 'ExpectedDepartureTime', 'JourneyPatternRef',\n",
       "       'Latitude', 'LineRef', 'Longitude', 'Monitored', 'OperatorRef',\n",
       "       'OriginAimedDepartureTime', 'OriginRef', 'PresentableDistance',\n",
       "       'ProgressRate', 'ProgressStatus', 'PublishedLineName', 'RecordedAtTime',\n",
       "       'StopPointName', 'StopPointRef', 'StopsFromCall', 'VehicleRef',\n",
       "       'VisitNumber', 'VehDistAlongRoute', 'ts'],\n",
       "      dtype='object')"
      ]
     },
     "execution_count": 6,
     "metadata": {},
     "output_type": "execute_result"
    }
   ],
   "source": [
    "df.columns"
   ]
  },
  {
   "cell_type": "markdown",
   "metadata": {},
   "source": [
    "## 2. Route Data\n",
    "- METHOD 1: Subset and sort built-in data using CallDistanceAlongRoute in df\n",
    "- METHOD 2: Query latest GTFS data through online database\n",
    "- METHOD 3: Use up-to-date shapefile, read as gpd and query"
   ]
  },
  {
   "cell_type": "markdown",
   "metadata": {},
   "source": [
    "## 2a. CallDistanceAlongRoute\n",
    "Caveat: only available when there is at least one complete run in the data (can be combined by several buses)"
   ]
  },
  {
   "cell_type": "code",
   "execution_count": 7,
   "metadata": {},
   "outputs": [
    {
     "data": {
      "text/plain": [
       "[<matplotlib.lines.Line2D at 0x1136f5048>]"
      ]
     },
     "execution_count": 7,
     "metadata": {},
     "output_type": "execute_result"
    },
    {
     "data": {
      "image/png": "[encoded data removed]",
      "text/plain": [
       "<matplotlib.figure.Figure at 0x1136778d0>"
      ]
     },
     "metadata": {},
     "output_type": "display_data"
    }
   ],
   "source": [
    "stops_x = df['CallDistanceAlongRoute'].unique()\n",
    "stops_y = [0] * len(stops_x)\n",
    "\n",
    "fig = plt.figure(figsize=(20,6))\n",
    "ax = fig.add_subplot(111)\n",
    "ax.plot(stops_x, stops_y, 'o-', markersize=5)"
   ]
  },
  {
   "cell_type": "markdown",
   "metadata": {},
   "source": [
    "## 2b. Query from GTFS Data\n",
    "Caveat: multiple routes and shapes for a bus line"
   ]
  },
  {
   "cell_type": "code",
   "execution_count": 8,
   "metadata": {},
   "outputs": [],
   "source": [
    "# import with py 2 and py 3 compatibility\n",
    "try:\n",
    "    import urllib2\n",
    "    from urllib2 import HTTPError\n",
    "    from urllib2 import urlopen\n",
    "    from urllib import urlencode\n",
    "    from StringIO import StringIO as io\n",
    "\n",
    "except ImportError:\n",
    "    import urllib\n",
    "    from urllib.error import HTTPError\n",
    "    from urllib.request import urlopen, Request\n",
    "    from urllib.parse import urlencode\n",
    "    from io import BytesIO as io\n",
    "\n",
    "import ast"
   ]
  },
  {
   "cell_type": "code",
   "execution_count": 9,
   "metadata": {},
   "outputs": [],
   "source": [
    "import fiona\n",
    "import geopandas as gpd\n",
    "from shapely.geometry import Point"
   ]
  },
  {
   "cell_type": "code",
   "execution_count": 10,
   "metadata": {},
   "outputs": [],
   "source": [
    "# set SQL source\n",
    "SQL_SOURCE = 'https://ywc249.carto.com/api/v2/sql?q='\n",
    "\n",
    "# define query function\n",
    "def queryCartoDB(query, format='CSV', source=SQL_SOURCE):\n",
    "    \"\"\"\n",
    "    Queries carto datasets from a given carto account\n",
    "    \n",
    "    ARGUMENTS\n",
    "    ----------\n",
    "    query: a valid sql query string\n",
    "    format: outlut format (default: CSV)\n",
    "    source: a valid sql api endpoint OPTIONAL (default: Carto ywc249 account)\n",
    "\n",
    "    RETURN\n",
    "    ----------\n",
    "    - the return of the sql query AS A STRING\n",
    "    \n",
    "    NOTES\n",
    "    ----------\n",
    "    designed for the carto API, tested only with CSV return format\n",
    "    \"\"\"\n",
    "    \n",
    "    data = urlencode({'format':format, 'q':query}).encode('utf-8')\n",
    "    try:\n",
    "        response = urlopen(source, data)\n",
    "    except HTTPError as e:\n",
    "        raise ValueError('\\n'.join(ast.literal_eval(e.readline())['error']))\n",
    "    except Exception:\n",
    "        raise\n",
    "    return response.read()"
   ]
  },
  {
   "cell_type": "code",
   "execution_count": 11,
   "metadata": {},
   "outputs": [
    {
     "data": {
      "text/plain": [
       "'OF_B8-Weekday-SDon-095400_M1_154'"
      ]
     },
     "execution_count": 11,
     "metadata": {},
     "output_type": "execute_result"
    }
   ],
   "source": [
    "df['DatedVehicleJourneyRef'].unique()\n",
    "df['DatedVehicleJourneyRef'].value_counts().idxmax()[9:]"
   ]
  },
  {
   "cell_type": "code",
   "execution_count": 12,
   "metadata": {},
   "outputs": [],
   "source": [
    "# make query for a given route\n",
    "# the shape.txt files are pre-uploaded to my Carto space as csv files\n",
    "\n",
    "route = df['PublishedLineName'].unique()[0]\n",
    "boro = route[0].lower() # make query from respecttive GTFS shape csv\n",
    "trip_id = df['DatedVehicleJourneyRef'].value_counts().idxmax()[9:]\n",
    "\n",
    "q_shape = '''\n",
    "SELECT *\n",
    "FROM shapes_{0}\n",
    "WHERE shape_id = (\n",
    "  SELECT shape_id\n",
    "  FROM trips_{0}\n",
    "  WHERE trip_id = '{1}')\n",
    "ORDER BY shape_pt_sequence\n",
    "'''.format(boro, trip_id)\n",
    "\n",
    "q_stop = '''\n",
    "query stops shapefile here\n",
    "'''"
   ]
  },
  {
   "cell_type": "code",
   "execution_count": 13,
   "metadata": {},
   "outputs": [
    {
     "data": {
      "text/plain": [
       "<matplotlib.axes._subplots.AxesSubplot at 0x115449908>"
      ]
     },
     "execution_count": 13,
     "metadata": {},
     "output_type": "execute_result"
    },
    {
     "data": {
      "image/png": "[encoded data removed]",
      "text/plain": [
       "<matplotlib.figure.Figure at 0x115449278>"
      ]
     },
     "metadata": {},
     "output_type": "display_data"
    }
   ],
   "source": [
    "r_shape = pd.read_csv(io(queryCartoDB(q_shape)), sep=',')\n",
    "r_shape['geometry'] = [Point(r_shape.iloc[i,5], r_shape.iloc[i,4]) for i in range(len(r_shape))]\n",
    "shape_gdf = gpd.GeoDataFrame(r_shape)\n",
    "shape_gdf.plot(facecolor='r', edgecolor='k', markersize=0.5, figsize=(10,10))"
   ]
  },
  {
   "cell_type": "markdown",
   "metadata": {},
   "source": [
    "## 2c. Shapefile\n",
    "Caveat: currently, I haven't found a good source that provides official or reliable constant update, but if there is one, this one is probably the easiest way"
   ]
  },
  {
   "cell_type": "code",
   "execution_count": null,
   "metadata": {},
   "outputs": [],
   "source": []
  },
  {
   "cell_type": "markdown",
   "metadata": {},
   "source": [
    "## 3. Visualization\n",
    "## 3a. Time-space Diagram\n",
    "Also include a log file!\n",
    "## 3b. Plain Topology\n",
    "## 3c. Plain Line"
   ]
  },
  {
   "cell_type": "code",
   "execution_count": 14,
   "metadata": {},
   "outputs": [],
   "source": [
    "# import osmnx as ox\n",
    "# import networkx as nx\n",
    "# import geopandas as gpd\n",
    "# from collections import Counter\n",
    "\n",
    "# from geopy import Nominatim\n",
    "# from geopy.distance import vincenty\n",
    "# from shapely.geometry import Point"
   ]
  },
  {
   "cell_type": "code",
   "execution_count": 16,
   "metadata": {},
   "outputs": [
    {
     "ename": "KeyboardInterrupt",
     "evalue": "",
     "output_type": "error",
     "traceback": [
      "\u001b[0;31m---------------------------------------------------------------------------\u001b[0m",
      "\u001b[0;31mKeyboardInterrupt\u001b[0m                         Traceback (most recent call last)",
      "\u001b[0;32m<ipython-input-16-7f12d4bb9b0b>\u001b[0m in \u001b[0;36m<module>\u001b[0;34m()\u001b[0m\n\u001b[1;32m     54\u001b[0m     \u001b[0mp4\u001b[0m\u001b[0;34m.\u001b[0m\u001b[0mset_data\u001b[0m\u001b[0;34m(\u001b[0m\u001b[0mbb_df\u001b[0m\u001b[0;34m[\u001b[0m\u001b[0;34m'VehDistAlongRoute'\u001b[0m\u001b[0;34m]\u001b[0m\u001b[0;34m,\u001b[0m \u001b[0;34m[\u001b[0m\u001b[0;36m0\u001b[0m\u001b[0;34m]\u001b[0m\u001b[0;34m*\u001b[0m\u001b[0mlen\u001b[0m\u001b[0;34m(\u001b[0m\u001b[0mbb_df\u001b[0m\u001b[0;34m)\u001b[0m\u001b[0;34m)\u001b[0m\u001b[0;34m\u001b[0m\u001b[0m\n\u001b[1;32m     55\u001b[0m     \u001b[0mclear_output\u001b[0m\u001b[0;34m(\u001b[0m\u001b[0mwait\u001b[0m\u001b[0;34m=\u001b[0m\u001b[0;32mTrue\u001b[0m\u001b[0;34m)\u001b[0m\u001b[0;34m\u001b[0m\u001b[0m\n\u001b[0;32m---> 56\u001b[0;31m     \u001b[0mdisplay\u001b[0m\u001b[0;34m(\u001b[0m\u001b[0mfig\u001b[0m\u001b[0;34m)\u001b[0m\u001b[0;34m\u001b[0m\u001b[0m\n\u001b[0m\u001b[1;32m     57\u001b[0m     \u001b[0mtime\u001b[0m\u001b[0;34m.\u001b[0m\u001b[0msleep\u001b[0m\u001b[0;34m(\u001b[0m\u001b[0;36m1\u001b[0m\u001b[0;34m/\u001b[0m\u001b[0mtime_coef\u001b[0m\u001b[0;34m)\u001b[0m\u001b[0;34m\u001b[0m\u001b[0m\n\u001b[1;32m     58\u001b[0m \u001b[0;31m# plt.tight_layout()\u001b[0m\u001b[0;34m\u001b[0m\u001b[0;34m\u001b[0m\u001b[0m\n",
      "\u001b[0;32m~/anaconda/lib/python3.6/site-packages/IPython/core/display.py\u001b[0m in \u001b[0;36mdisplay\u001b[0;34m(include, exclude, metadata, transient, display_id, *objs, **kwargs)\u001b[0m\n\u001b[1;32m    295\u001b[0m             \u001b[0mpublish_display_data\u001b[0m\u001b[0;34m(\u001b[0m\u001b[0mdata\u001b[0m\u001b[0;34m=\u001b[0m\u001b[0mobj\u001b[0m\u001b[0;34m,\u001b[0m \u001b[0mmetadata\u001b[0m\u001b[0;34m=\u001b[0m\u001b[0mmetadata\u001b[0m\u001b[0;34m,\u001b[0m \u001b[0;34m**\u001b[0m\u001b[0mkwargs\u001b[0m\u001b[0;34m)\u001b[0m\u001b[0;34m\u001b[0m\u001b[0m\n\u001b[1;32m    296\u001b[0m         \u001b[0;32melse\u001b[0m\u001b[0;34m:\u001b[0m\u001b[0;34m\u001b[0m\u001b[0m\n\u001b[0;32m--> 297\u001b[0;31m             \u001b[0mformat_dict\u001b[0m\u001b[0;34m,\u001b[0m \u001b[0mmd_dict\u001b[0m \u001b[0;34m=\u001b[0m \u001b[0mformat\u001b[0m\u001b[0;34m(\u001b[0m\u001b[0mobj\u001b[0m\u001b[0;34m,\u001b[0m \u001b[0minclude\u001b[0m\u001b[0;34m=\u001b[0m\u001b[0minclude\u001b[0m\u001b[0;34m,\u001b[0m \u001b[0mexclude\u001b[0m\u001b[0;34m=\u001b[0m\u001b[0mexclude\u001b[0m\u001b[0;34m)\u001b[0m\u001b[0;34m\u001b[0m\u001b[0m\n\u001b[0m\u001b[1;32m    298\u001b[0m             \u001b[0;32mif\u001b[0m \u001b[0;32mnot\u001b[0m \u001b[0mformat_dict\u001b[0m\u001b[0;34m:\u001b[0m\u001b[0;34m\u001b[0m\u001b[0m\n\u001b[1;32m    299\u001b[0m                 \u001b[0;31m# nothing to display (e.g. _ipython_display_ took over)\u001b[0m\u001b[0;34m\u001b[0m\u001b[0;34m\u001b[0m\u001b[0m\n",
      "\u001b[0;32m~/anaconda/lib/python3.6/site-packages/IPython/core/formatters.py\u001b[0m in \u001b[0;36mformat\u001b[0;34m(self, obj, include, exclude)\u001b[0m\n\u001b[1;32m    178\u001b[0m             \u001b[0mmd\u001b[0m \u001b[0;34m=\u001b[0m \u001b[0;32mNone\u001b[0m\u001b[0;34m\u001b[0m\u001b[0m\n\u001b[1;32m    179\u001b[0m             \u001b[0;32mtry\u001b[0m\u001b[0;34m:\u001b[0m\u001b[0;34m\u001b[0m\u001b[0m\n\u001b[0;32m--> 180\u001b[0;31m                 \u001b[0mdata\u001b[0m \u001b[0;34m=\u001b[0m \u001b[0mformatter\u001b[0m\u001b[0;34m(\u001b[0m\u001b[0mobj\u001b[0m\u001b[0;34m)\u001b[0m\u001b[0;34m\u001b[0m\u001b[0m\n\u001b[0m\u001b[1;32m    181\u001b[0m             \u001b[0;32mexcept\u001b[0m\u001b[0;34m:\u001b[0m\u001b[0;34m\u001b[0m\u001b[0m\n\u001b[1;32m    182\u001b[0m                 \u001b[0;31m# FIXME: log the exception\u001b[0m\u001b[0;34m\u001b[0m\u001b[0;34m\u001b[0m\u001b[0m\n",
      "\u001b[0;32m<decorator-gen-9>\u001b[0m in \u001b[0;36m__call__\u001b[0;34m(self, obj)\u001b[0m\n",
      "\u001b[0;32m~/anaconda/lib/python3.6/site-packages/IPython/core/formatters.py\u001b[0m in \u001b[0;36mcatch_format_error\u001b[0;34m(method, self, *args, **kwargs)\u001b[0m\n\u001b[1;32m    222\u001b[0m     \u001b[0;34m\"\"\"show traceback on failed format call\"\"\"\u001b[0m\u001b[0;34m\u001b[0m\u001b[0m\n\u001b[1;32m    223\u001b[0m     \u001b[0;32mtry\u001b[0m\u001b[0;34m:\u001b[0m\u001b[0;34m\u001b[0m\u001b[0m\n\u001b[0;32m--> 224\u001b[0;31m         \u001b[0mr\u001b[0m \u001b[0;34m=\u001b[0m \u001b[0mmethod\u001b[0m\u001b[0;34m(\u001b[0m\u001b[0mself\u001b[0m\u001b[0;34m,\u001b[0m \u001b[0;34m*\u001b[0m\u001b[0margs\u001b[0m\u001b[0;34m,\u001b[0m \u001b[0;34m**\u001b[0m\u001b[0mkwargs\u001b[0m\u001b[0;34m)\u001b[0m\u001b[0;34m\u001b[0m\u001b[0m\n\u001b[0m\u001b[1;32m    225\u001b[0m     \u001b[0;32mexcept\u001b[0m \u001b[0mNotImplementedError\u001b[0m\u001b[0;34m:\u001b[0m\u001b[0;34m\u001b[0m\u001b[0m\n\u001b[1;32m    226\u001b[0m         \u001b[0;31m# don't warn on NotImplementedErrors\u001b[0m\u001b[0;34m\u001b[0m\u001b[0;34m\u001b[0m\u001b[0m\n",
      "\u001b[0;32m~/anaconda/lib/python3.6/site-packages/IPython/core/formatters.py\u001b[0m in \u001b[0;36m__call__\u001b[0;34m(self, obj)\u001b[0m\n\u001b[1;32m    339\u001b[0m                 \u001b[0;32mpass\u001b[0m\u001b[0;34m\u001b[0m\u001b[0m\n\u001b[1;32m    340\u001b[0m             \u001b[0;32melse\u001b[0m\u001b[0;34m:\u001b[0m\u001b[0;34m\u001b[0m\u001b[0m\n\u001b[0;32m--> 341\u001b[0;31m                 \u001b[0;32mreturn\u001b[0m \u001b[0mprinter\u001b[0m\u001b[0;34m(\u001b[0m\u001b[0mobj\u001b[0m\u001b[0;34m)\u001b[0m\u001b[0;34m\u001b[0m\u001b[0m\n\u001b[0m\u001b[1;32m    342\u001b[0m             \u001b[0;31m# Finally look for special method names\u001b[0m\u001b[0;34m\u001b[0m\u001b[0;34m\u001b[0m\u001b[0m\n\u001b[1;32m    343\u001b[0m             \u001b[0mmethod\u001b[0m \u001b[0;34m=\u001b[0m \u001b[0mget_real_method\u001b[0m\u001b[0;34m(\u001b[0m\u001b[0mobj\u001b[0m\u001b[0;34m,\u001b[0m \u001b[0mself\u001b[0m\u001b[0;34m.\u001b[0m\u001b[0mprint_method\u001b[0m\u001b[0;34m)\u001b[0m\u001b[0;34m\u001b[0m\u001b[0m\n",
      "\u001b[0;32m~/anaconda/lib/python3.6/site-packages/IPython/core/pylabtools.py\u001b[0m in \u001b[0;36m<lambda>\u001b[0;34m(fig)\u001b[0m\n\u001b[1;32m    236\u001b[0m \u001b[0;34m\u001b[0m\u001b[0m\n\u001b[1;32m    237\u001b[0m     \u001b[0;32mif\u001b[0m \u001b[0;34m'png'\u001b[0m \u001b[0;32min\u001b[0m \u001b[0mformats\u001b[0m\u001b[0;34m:\u001b[0m\u001b[0;34m\u001b[0m\u001b[0m\n\u001b[0;32m--> 238\u001b[0;31m         \u001b[0mpng_formatter\u001b[0m\u001b[0;34m.\u001b[0m\u001b[0mfor_type\u001b[0m\u001b[0;34m(\u001b[0m\u001b[0mFigure\u001b[0m\u001b[0;34m,\u001b[0m \u001b[0;32mlambda\u001b[0m \u001b[0mfig\u001b[0m\u001b[0;34m:\u001b[0m \u001b[0mprint_figure\u001b[0m\u001b[0;34m(\u001b[0m\u001b[0mfig\u001b[0m\u001b[0;34m,\u001b[0m \u001b[0;34m'png'\u001b[0m\u001b[0;34m,\u001b[0m \u001b[0;34m**\u001b[0m\u001b[0mkwargs\u001b[0m\u001b[0;34m)\u001b[0m\u001b[0;34m)\u001b[0m\u001b[0;34m\u001b[0m\u001b[0m\n\u001b[0m\u001b[1;32m    239\u001b[0m     \u001b[0;32mif\u001b[0m \u001b[0;34m'retina'\u001b[0m \u001b[0;32min\u001b[0m \u001b[0mformats\u001b[0m \u001b[0;32mor\u001b[0m \u001b[0;34m'png2x'\u001b[0m \u001b[0;32min\u001b[0m \u001b[0mformats\u001b[0m\u001b[0;34m:\u001b[0m\u001b[0;34m\u001b[0m\u001b[0m\n\u001b[1;32m    240\u001b[0m         \u001b[0mpng_formatter\u001b[0m\u001b[0;34m.\u001b[0m\u001b[0mfor_type\u001b[0m\u001b[0;34m(\u001b[0m\u001b[0mFigure\u001b[0m\u001b[0;34m,\u001b[0m \u001b[0;32mlambda\u001b[0m \u001b[0mfig\u001b[0m\u001b[0;34m:\u001b[0m \u001b[0mretina_figure\u001b[0m\u001b[0;34m(\u001b[0m\u001b[0mfig\u001b[0m\u001b[0;34m,\u001b[0m \u001b[0;34m**\u001b[0m\u001b[0mkwargs\u001b[0m\u001b[0;34m)\u001b[0m\u001b[0;34m)\u001b[0m\u001b[0;34m\u001b[0m\u001b[0m\n",
      "\u001b[0;32m~/anaconda/lib/python3.6/site-packages/IPython/core/pylabtools.py\u001b[0m in \u001b[0;36mprint_figure\u001b[0;34m(fig, fmt, bbox_inches, **kwargs)\u001b[0m\n\u001b[1;32m    120\u001b[0m \u001b[0;34m\u001b[0m\u001b[0m\n\u001b[1;32m    121\u001b[0m     \u001b[0mbytes_io\u001b[0m \u001b[0;34m=\u001b[0m \u001b[0mBytesIO\u001b[0m\u001b[0;34m(\u001b[0m\u001b[0;34m)\u001b[0m\u001b[0;34m\u001b[0m\u001b[0m\n\u001b[0;32m--> 122\u001b[0;31m     \u001b[0mfig\u001b[0m\u001b[0;34m.\u001b[0m\u001b[0mcanvas\u001b[0m\u001b[0;34m.\u001b[0m\u001b[0mprint_figure\u001b[0m\u001b[0;34m(\u001b[0m\u001b[0mbytes_io\u001b[0m\u001b[0;34m,\u001b[0m \u001b[0;34m**\u001b[0m\u001b[0mkw\u001b[0m\u001b[0;34m)\u001b[0m\u001b[0;34m\u001b[0m\u001b[0m\n\u001b[0m\u001b[1;32m    123\u001b[0m     \u001b[0mdata\u001b[0m \u001b[0;34m=\u001b[0m \u001b[0mbytes_io\u001b[0m\u001b[0;34m.\u001b[0m\u001b[0mgetvalue\u001b[0m\u001b[0;34m(\u001b[0m\u001b[0;34m)\u001b[0m\u001b[0;34m\u001b[0m\u001b[0m\n\u001b[1;32m    124\u001b[0m     \u001b[0;32mif\u001b[0m \u001b[0mfmt\u001b[0m \u001b[0;34m==\u001b[0m \u001b[0;34m'svg'\u001b[0m\u001b[0;34m:\u001b[0m\u001b[0;34m\u001b[0m\u001b[0m\n",
      "\u001b[0;32m~/anaconda/lib/python3.6/site-packages/matplotlib/backend_bases.py\u001b[0m in \u001b[0;36mprint_figure\u001b[0;34m(self, filename, dpi, facecolor, edgecolor, orientation, format, **kwargs)\u001b[0m\n\u001b[1;32m   2228\u001b[0m                         \u001b[0mclip_box\u001b[0m \u001b[0;34m=\u001b[0m \u001b[0ma\u001b[0m\u001b[0;34m.\u001b[0m\u001b[0mget_clip_box\u001b[0m\u001b[0;34m(\u001b[0m\u001b[0;34m)\u001b[0m\u001b[0;34m\u001b[0m\u001b[0m\n\u001b[1;32m   2229\u001b[0m                         \u001b[0;32mif\u001b[0m \u001b[0mclip_box\u001b[0m \u001b[0;32mis\u001b[0m \u001b[0;32mnot\u001b[0m \u001b[0;32mNone\u001b[0m\u001b[0;34m:\u001b[0m\u001b[0;34m\u001b[0m\u001b[0m\n\u001b[0;32m-> 2230\u001b[0;31m                             \u001b[0mbbox\u001b[0m \u001b[0;34m=\u001b[0m \u001b[0mBbox\u001b[0m\u001b[0;34m.\u001b[0m\u001b[0mintersection\u001b[0m\u001b[0;34m(\u001b[0m\u001b[0mbbox\u001b[0m\u001b[0;34m,\u001b[0m \u001b[0mclip_box\u001b[0m\u001b[0;34m)\u001b[0m\u001b[0;34m\u001b[0m\u001b[0m\n\u001b[0m\u001b[1;32m   2231\u001b[0m                         \u001b[0mclip_path\u001b[0m \u001b[0;34m=\u001b[0m \u001b[0ma\u001b[0m\u001b[0;34m.\u001b[0m\u001b[0mget_clip_path\u001b[0m\u001b[0;34m(\u001b[0m\u001b[0;34m)\u001b[0m\u001b[0;34m\u001b[0m\u001b[0m\n\u001b[1;32m   2232\u001b[0m                         \u001b[0;32mif\u001b[0m \u001b[0mclip_path\u001b[0m \u001b[0;32mis\u001b[0m \u001b[0;32mnot\u001b[0m \u001b[0;32mNone\u001b[0m \u001b[0;32mand\u001b[0m \u001b[0mbbox\u001b[0m \u001b[0;32mis\u001b[0m \u001b[0;32mnot\u001b[0m \u001b[0;32mNone\u001b[0m\u001b[0;34m:\u001b[0m\u001b[0;34m\u001b[0m\u001b[0m\n",
      "\u001b[0;32m~/anaconda/lib/python3.6/site-packages/matplotlib/transforms.py\u001b[0m in \u001b[0;36mintersection\u001b[0;34m(bbox1, bbox2)\u001b[0m\n\u001b[1;32m    738\u001b[0m         \u001b[0mx1\u001b[0m \u001b[0;34m=\u001b[0m \u001b[0mnp\u001b[0m\u001b[0;34m.\u001b[0m\u001b[0mminimum\u001b[0m\u001b[0;34m(\u001b[0m\u001b[0mbbox1\u001b[0m\u001b[0;34m.\u001b[0m\u001b[0mxmax\u001b[0m\u001b[0;34m,\u001b[0m \u001b[0mbbox2\u001b[0m\u001b[0;34m.\u001b[0m\u001b[0mxmax\u001b[0m\u001b[0;34m)\u001b[0m\u001b[0;34m\u001b[0m\u001b[0m\n\u001b[1;32m    739\u001b[0m         \u001b[0my0\u001b[0m \u001b[0;34m=\u001b[0m \u001b[0mnp\u001b[0m\u001b[0;34m.\u001b[0m\u001b[0mmaximum\u001b[0m\u001b[0;34m(\u001b[0m\u001b[0mbbox1\u001b[0m\u001b[0;34m.\u001b[0m\u001b[0mymin\u001b[0m\u001b[0;34m,\u001b[0m \u001b[0mbbox2\u001b[0m\u001b[0;34m.\u001b[0m\u001b[0mymin\u001b[0m\u001b[0;34m)\u001b[0m\u001b[0;34m\u001b[0m\u001b[0m\n\u001b[0;32m--> 740\u001b[0;31m         \u001b[0my1\u001b[0m \u001b[0;34m=\u001b[0m \u001b[0mnp\u001b[0m\u001b[0;34m.\u001b[0m\u001b[0mminimum\u001b[0m\u001b[0;34m(\u001b[0m\u001b[0mbbox1\u001b[0m\u001b[0;34m.\u001b[0m\u001b[0mymax\u001b[0m\u001b[0;34m,\u001b[0m \u001b[0mbbox2\u001b[0m\u001b[0;34m.\u001b[0m\u001b[0mymax\u001b[0m\u001b[0;34m)\u001b[0m\u001b[0;34m\u001b[0m\u001b[0m\n\u001b[0m\u001b[1;32m    741\u001b[0m         \u001b[0;32mreturn\u001b[0m \u001b[0mBbox\u001b[0m\u001b[0;34m(\u001b[0m\u001b[0;34m[\u001b[0m\u001b[0;34m[\u001b[0m\u001b[0mx0\u001b[0m\u001b[0;34m,\u001b[0m \u001b[0my0\u001b[0m\u001b[0;34m]\u001b[0m\u001b[0;34m,\u001b[0m \u001b[0;34m[\u001b[0m\u001b[0mx1\u001b[0m\u001b[0;34m,\u001b[0m \u001b[0my1\u001b[0m\u001b[0;34m]\u001b[0m\u001b[0;34m]\u001b[0m\u001b[0;34m)\u001b[0m \u001b[0;32mif\u001b[0m \u001b[0mx0\u001b[0m \u001b[0;34m<=\u001b[0m \u001b[0mx1\u001b[0m \u001b[0;32mand\u001b[0m \u001b[0my0\u001b[0m \u001b[0;34m<=\u001b[0m \u001b[0my1\u001b[0m \u001b[0;32melse\u001b[0m \u001b[0;32mNone\u001b[0m\u001b[0;34m\u001b[0m\u001b[0m\n\u001b[1;32m    742\u001b[0m \u001b[0;34m\u001b[0m\u001b[0m\n",
      "\u001b[0;31mKeyboardInterrupt\u001b[0m: "
     ]
    },
    {
     "data": {
      "image/png": "[encoded data removed]",
      "text/plain": [
       "<matplotlib.figure.Figure at 0x11ccfb438>"
      ]
     },
     "metadata": {},
     "output_type": "display_data"
    }
   ],
   "source": [
    "time_coef = 100\n",
    "\n",
    "# plot figure\n",
    "fig = plt.figure(figsize=(18,12))\n",
    "ax1 = fig.add_subplot(221)\n",
    "ax2 = fig.add_subplot(222)\n",
    "ax3 = fig.add_subplot(212)\n",
    "\n",
    "\n",
    "# plot CallDistanceAlongRoute (bus stops)\n",
    "[ax1.plot([df['RecordedAtTime'].min(), df['RecordedAtTime'].max()], [i, i], color='gray', alpha=0.1) for i in df['CallDistanceAlongRoute'].unique()]\n",
    "p1, = ax1.plot([], [], '-', color='steelblue')\n",
    "\n",
    "ax1.grid()\n",
    "ax1.set_xlabel(\"time\", fontsize=14)\n",
    "ax1.set_ylabel(\"distance along route (m)\", fontsize=14)\n",
    "ax1.set_title(\"Time-space Diagram\", fontsize=16)\n",
    "\n",
    "\n",
    "\n",
    "# plot dynamic route line topology\n",
    "ax3.plot(df['CallDistanceAlongRoute'], [0]*len(df), '.-', color='steelblue')\n",
    "p3, = ax3.plot([], [], 'o', color='lawngreen')\n",
    "p4, = ax3.plot([], [], 'o', color='indianred')\n",
    "\n",
    "ax3.set_yticks([])\n",
    "ax3.set_xlabel(\"distance along route (m)\", fontsize=14)\n",
    "ax3.set_title(\"Active Vehicles on Route\", fontsize=16)\n",
    "\n",
    "\n",
    "\n",
    "for i in range(0,df['ts'].max(),30):\n",
    "    df3 = df[df['ts'] == i]\n",
    "    df1 = df[df['ts'] <= i]\n",
    "    \n",
    "    # mark vehicles that are bunching \n",
    "    df3.sort_values(['VehDistAlongRoute'], inplace=True)\n",
    "    spacing = np.diff(df3['VehDistAlongRoute'])\n",
    "    bunch = spacing < 100 # set threshold (meters) to be identified as BB\n",
    "    bunch_a = np.array([False] + list(bunch))\n",
    "    bunch_b = np.array(list(bunch) + [False])\n",
    "    bunch = bunch_a + bunch_b\n",
    "    bb_df = df3[bunch]\n",
    "    \n",
    "    # plot TSD for each vehicle\n",
    "    for i, v in enumerate(df1['VehicleRef'].unique()):\n",
    "        # subset data for single vehicle\n",
    "        veh_df = df1[df1['VehicleRef'] == v]\n",
    "        ax1.plot(veh_df['RecordedAtTime'], veh_df['VehDistAlongRoute'], '-', color='steelblue', alpha=0.5)\n",
    "        ax1.plot(bb_df['RecordedAtTime'], bb_df['VehDistAlongRoute'], 'o', color='indianred', alpha=0.5)\n",
    "        #ax1.annotate('%s'%v.split(\"_\")[1], (list(veh_df['RecordedAtTime'])[0],list(veh_df['VehDistAlongRoute'])[0]))\n",
    "        \n",
    "    p3.set_data(df3['VehDistAlongRoute'], [0]*len(df3))\n",
    "    p4.set_data(bb_df['VehDistAlongRoute'], [0]*len(bb_df))\n",
    "    clear_output(wait=True)\n",
    "    display(fig)\n",
    "    time.sleep(1/time_coef)\n",
    "# plt.tight_layout()\n",
    "# plt.show()"
   ]
  },
  {
   "cell_type": "markdown",
   "metadata": {},
   "source": [
    "## 3d. Map Topology"
   ]
  },
  {
   "cell_type": "code",
   "execution_count": 17,
   "metadata": {},
   "outputs": [],
   "source": [
    "import gmaps\n",
    "gmaps.configure(api_key=os.getenv(\"GOOGLEAPIKEY\"))"
   ]
  },
  {
   "cell_type": "code",
   "execution_count": 18,
   "metadata": {},
   "outputs": [],
   "source": [
    "df_gmap = df[df['ts'] == 0]\n",
    "location = list(zip(df_gmap['Latitude'], df_gmap['Longitude']))"
   ]
  },
  {
   "cell_type": "code",
   "execution_count": 19,
   "metadata": {},
   "outputs": [
    {
     "data": {
      "application/vnd.jupyter.widget-view+json": {
       "model_id": "bd401b2f578647a9a008e09a6896eb22",
       "version_major": 2,
       "version_minor": 0
      },
      "text/html": [
       "<p>Failed to display Jupyter Widget of type <code>Figure</code>.</p>\n",
       "<p>\n",
       "  If you're reading this message in the Jupyter Notebook or JupyterLab Notebook, it may mean\n",
       "  that the widgets JavaScript is still loading. If this message persists, it\n",
       "  likely means that the widgets JavaScript library is either not installed or\n",
       "  not enabled. See the <a href=\"https://ipywidgets.readthedocs.io/en/stable/user_install.html\">Jupyter\n",
       "  Widgets Documentation</a> for setup instructions.\n",
       "</p>\n",
       "<p>\n",
       "  If you're reading this message in another frontend (for example, a static\n",
       "  rendering on GitHub or <a href=\"https://nbviewer.jupyter.org/\">NBViewer</a>),\n",
       "  it may mean that your frontend doesn't currently support widgets.\n",
       "</p>\n"
      ],
      "text/plain": [
       "Figure()"
      ]
     },
     "metadata": {},
     "output_type": "display_data"
    }
   ],
   "source": [
    "fig = gmaps.figure()\n",
    "fig.add_layer(gmaps.symbol_layer(location))\n",
    "fig"
   ]
  },
  {
   "cell_type": "code",
   "execution_count": null,
   "metadata": {},
   "outputs": [],
   "source": []
  },
  {
   "cell_type": "markdown",
   "metadata": {},
   "source": [
    "## 4. Simulation\n",
    "## 4a. Objects Creation"
   ]
  },
  {
   "cell_type": "code",
   "execution_count": null,
   "metadata": {},
   "outputs": [],
   "source": []
  },
  {
   "cell_type": "markdown",
   "metadata": {},
   "source": [
    "## 4b. Attribute Assignment"
   ]
  },
  {
   "cell_type": "code",
   "execution_count": null,
   "metadata": {},
   "outputs": [],
   "source": []
  },
  {
   "cell_type": "markdown",
   "metadata": {},
   "source": [
    "## 4c. Environment Variables"
   ]
  },
  {
   "cell_type": "code",
   "execution_count": null,
   "metadata": {},
   "outputs": [],
   "source": []
  },
  {
   "cell_type": "markdown",
   "metadata": {},
   "source": [
    "## 4d. User Interface"
   ]
  },
  {
   "cell_type": "code",
   "execution_count": null,
   "metadata": {},
   "outputs": [],
   "source": []
  },
  {
   "cell_type": "markdown",
   "metadata": {},
   "source": [
    "## 4e. Dynamic Display\n",
    "1. 0.5-sec update\n",
    "2. time-space diagram\n",
    "3. trace log"
   ]
  },
  {
   "cell_type": "code",
   "execution_count": null,
   "metadata": {},
   "outputs": [],
   "source": []
  },
  {
   "cell_type": "markdown",
   "metadata": {},
   "source": [
    "## 4f. Web Deployment\n",
    "1. Control panel\n",
    "2. Real-time info on Google basemap\n",
    "3. Real-time info on straightened route topology\n",
    "    - 3a. BB indicator\n",
    "4. Dynamic time-space diagram"
   ]
  },
  {
   "cell_type": "code",
   "execution_count": null,
   "metadata": {},
   "outputs": [],
   "source": []
  },
  {
   "cell_type": "markdown",
   "metadata": {},
   "source": [
    "# End"
   ]
  },
  {
   "cell_type": "markdown",
   "metadata": {},
   "source": [
    "- 3/11 4\n",
    "- 3/12 1.5\n",
    "- 3/16 1\n",
    "- 3/17 2\n",
    "- 3/18 2\n",
    "- 3/20 1.5\n",
    "- 3/23 2\n",
    "- 4/3 3\n",
    "- 4/5 0.5\n",
    "- 4/6 1.5\n",
    "- 4/9 1.5\n",
    "- 4/21 9\n",
    "- 4/22 9"
   ]
  },
  {
   "cell_type": "code",
   "execution_count": null,
   "metadata": {
    "collapsed": true
   },
   "outputs": [],
   "source": []
  },
  {
   "cell_type": "code",
   "execution_count": 46,
   "metadata": {
    "scrolled": true
   },
   "outputs": [
    {
     "data": {
      "text/plain": [
       "[164.10592592573394,\n",
       " 524.6821220855292,\n",
       " 183.2864635647531,\n",
       " 166.04481363027242,\n",
       " 168.16662072005468,\n",
       " 249.32389728515443,\n",
       " 280.8678932398275,\n",
       " 65.1613773786362,\n",
       " 162.277246106055,\n",
       " 160.8227222138864,\n",
       " 156.99423276306914,\n",
       " 177.8182272706027,\n",
       " 262.3958689692586,\n",
       " 186.7201549309188,\n",
       " 134.44950499065496,\n",
       " 113.44836241741916,\n",
       " 271.7303956584878,\n",
       " 243.00538513176005,\n",
       " 292.5054493596941,\n",
       " 190.84614888127206,\n",
       " 295.74318979161654,\n",
       " 180.16350288585392,\n",
       " 297.9947729558094,\n",
       " 205.45446314960742,\n",
       " 168.5189134674809,\n",
       " 151.1404164049675,\n",
       " 170.5531370778554,\n",
       " 218.34221496184352,\n",
       " 226.21779839123397,\n",
       " 226.0960471262775,\n",
       " 374.39793393469455,\n",
       " 130.71672370770722]"
      ]
     },
     "execution_count": 46,
     "metadata": {},
     "output_type": "execute_result"
    }
   ],
   "source": [
    "# calculate stop distances\n",
    "dist = []\n",
    "lats = list(B54_merge['stop_lat'])\n",
    "lons = list(B54_merge['stop_lon'])\n",
    "for i in arange(len(B54_stops)):\n",
    "    if i < len(B54_stops) - 1:\n",
    "        p1 = lats[i], lons[i]\n",
    "        p2 = lats[i+1], lons[i+1]\n",
    "        di = vincenty(p1, p2).meters\n",
    "        dist.append(di)\n",
    "dist"
   ]
  },
  {
   "cell_type": "code",
   "execution_count": 51,
   "metadata": {},
   "outputs": [
    {
     "data": {
      "text/plain": [
       "array([   0.        ,  164.10592593,  688.78804801,  872.07451158,\n",
       "       1038.11932521, 1206.28594593, 1455.60984321, 1736.47773645,\n",
       "       1801.63911383, 1963.91635994, 2124.73908215, 2281.73331491,\n",
       "       2459.55154218, 2721.94741115, 2908.66756608, 3043.11707107,\n",
       "       3156.56543349, 3428.29582915, 3671.30121428, 3963.80666364,\n",
       "       4154.65281252, 4450.39600231, 4630.5595052 , 4928.55427816,\n",
       "       5134.00874131, 5302.52765477, 5453.66807118, 5624.22120826,\n",
       "       5842.56342322, 6068.78122161, 6294.87726874, 6669.27520267])"
      ]
     },
     "execution_count": 51,
     "metadata": {},
     "output_type": "execute_result"
    }
   ],
   "source": [
    "# calculate stop distances along the route (cumulative distance)\n",
    "di = 0\n",
    "cum_dist = [0]\n",
    "for d in dist[:-1]:\n",
    "    di += d\n",
    "    cum_dist.append(di)\n",
    "cum_dist = np.array(cum_dist)\n",
    "cum_dist"
   ]
  },
  {
   "cell_type": "code",
   "execution_count": 63,
   "metadata": {},
   "outputs": [
    {
     "data": {
      "image/png": "[encoded data removed]",
      "text/plain": [
       "<matplotlib.figure.Figure at 0x10d9e7400>"
      ]
     },
     "metadata": {},
     "output_type": "display_data"
    }
   ],
   "source": [
    "fig = plt.figure(figsize=(12,6))\n",
    "ax = fig.add_subplot(111)\n",
    "ax.plot(cum_dist, [0]*len(cum_dist), '.-')\n",
    "ax.plot(df['VehDistAlongRoute'], [0]*len(df), 'ro')\n",
    "plt.show()"
   ]
  },
  {
   "cell_type": "code",
   "execution_count": 64,
   "metadata": {},
   "outputs": [
    {
     "data": {
      "text/plain": [
       "<matplotlib.axes._subplots.AxesSubplot at 0x10cfa9048>"
      ]
     },
     "execution_count": 64,
     "metadata": {},
     "output_type": "execute_result"
    },
    {
     "data": {
      "image/png": "[encoded data removed]",
      "text/plain": [
       "<matplotlib.figure.Figure at 0x10d9e7240>"
      ]
     },
     "metadata": {},
     "output_type": "display_data"
    }
   ],
   "source": [
    "# plot route\n",
    "ax = temp_shp.plot('shape_pt_lon', 'shape_pt_lat')\n",
    "\n",
    "# plot stops\n",
    "B54_stops.plot.scatter('stop_lon', 'stop_lat', ax=ax)\n",
    "\n",
    "# plot active buses\n",
    "df.plot.scatter('Longitude', 'Latitude', color='red', ax=ax)"
   ]
  }
 ],
 "metadata": {
  "kernelspec": {
   "display_name": "Python 3",
   "language": "python",
   "name": "python3"
  },
  "language_info": {
   "codemirror_mode": {
    "name": "ipython",
    "version": 3
   },
   "file_extension": ".py",
   "mimetype": "text/x-python",
   "name": "python",
   "nbconvert_exporter": "python",
   "pygments_lexer": "ipython3",
   "version": "3.6.3"
  }
 },
 "nbformat": 4,
 "nbformat_minor": 2
}
